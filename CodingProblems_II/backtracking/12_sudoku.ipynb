{
 "cells": [
  {
   "cell_type": "code",
   "execution_count": 1,
   "id": "7cad2666",
   "metadata": {},
   "outputs": [
    {
     "name": "stdout",
     "output_type": "stream",
     "text": [
      "[['5', '3', 8, 1, '7', 5, 9, 6, 3], ['6', 3, 6, '1', '9', '5', 7, 4, 2], [9, '9', '8', 7, 2, 4, 5, '6', 1], ['8', 1, 3, 2, '6', 7, 6, 5, '3'], ['4', 2, 7, '8', 1, '3', 4, 3, '1'], ['7', 6, 5, 4, '2', 3, 2, 1, '6'], [3, '6', 2, 6, 5, 1, '2', '8', 4], [8, 7, 1, '4', '1', '9', 3, 2, '5'], [6, 5, 4, 3, '8', 2, 1, '7', '9']]\n"
     ]
    },
    {
     "data": {
      "text/plain": [
       "\"\\n[\\n    ['5', '3', '4', '6', '7', '8', '9', '1', '2'], \\n    ['6', '7', '2', '1', '9', '5', '3', '4', '8'], \\n    ['1', '9', '8', '3', '4', '2', '5', '6', '7'], \\n    ['8', '5', '9', '7', '6', '1', '4', '2', '3'], \\n    ['4', '2', '6', '8', '5', '3', '7', '9', '1'], \\n    ['7', '1', '3', '9', '2', '4', '8', '5', '6'], \\n    ['9', '6', '1', '5', '3', '7', '2', '8', '4'], \\n    ['2', '8', '7', '4', '1', '9', '6', '3', '5'], \\n    ['3', '4', '5', '2', '8', '6', '1', '7', '9']\\n]\\n\""
      ]
     },
     "execution_count": 1,
     "metadata": {},
     "output_type": "execute_result"
    }
   ],
   "source": [
    "def is_valid(row, col, num):\n",
    "        for index in range(9):\n",
    "            # validate all the rows\n",
    "            if board[row][index] == num:\n",
    "                return False\n",
    "            # validate columns\n",
    "            if board[index][col] == num:\n",
    "                return False\n",
    "            # validate sub-boxes\n",
    "            # sub_box_row = 3 * (row // 3) + index//3\n",
    "            # sub_box_col = 3 * (col//3) + index%3\n",
    "            # print(sub_box_row, sub_box_col) \n",
    "            if board[3 * (row // 3) + index//3][3 * (col//3) + index%3] == num: \n",
    "                return False\n",
    "        return True\n",
    "\n",
    "def search(remaning):\n",
    "    if not remaning: #if empty \n",
    "        return #True\n",
    "    (row, col) = remaning[-1]\n",
    "    for num in range(1, 10): # [1 to 9]\n",
    "        if is_valid(row, col, num):\n",
    "            board[row][col] = num\n",
    "            remaning.pop() # mark as solved\n",
    "            search(remaning)\n",
    "            if not remaning: # if empty \n",
    "                return #True\n",
    "            board[row][col] = '.'\n",
    "            remaning.append((row, col)) #unmark\n",
    "    #return\n",
    "\n",
    "\n",
    "def solve_sudoku(board):\n",
    "    remaning = [(i, j) for i in range(9) for j in range(9) if board[i][j] == '.']\n",
    "    #print(remaning)\n",
    "    search(remaning)\n",
    "    return board\n",
    "\n",
    "board = [\n",
    "    [\"5\",\"3\",\".\",\".\",\"7\",\".\",\".\",\".\",\".\"],\n",
    "    [\"6\",\".\",\".\",\"1\",\"9\",\"5\",\".\",\".\",\".\"],\n",
    "    [\".\",\"9\",\"8\",\".\",\".\",\".\",\".\",\"6\",\".\"],\n",
    "    [\"8\",\".\",\".\",\".\",\"6\",\".\",\".\",\".\",\"3\"],\n",
    "    [\"4\",\".\",\".\",\"8\",\".\",\"3\",\".\",\".\",\"1\"],\n",
    "    [\"7\",\".\",\".\",\".\",\"2\",\".\",\".\",\".\",\"6\"],\n",
    "    [\".\",\"6\",\".\",\".\",\".\",\".\",\"2\",\"8\",\".\"],\n",
    "    [\".\",\".\",\".\",\"4\",\"1\",\"9\",\".\",\".\",\"5\"],\n",
    "    [\".\",\".\",\".\",\".\",\"8\",\".\",\".\",\"7\",\"9\"]\n",
    "]\n",
    "solve_sudoku(board)\n",
    "print(board)\n",
    "\n",
    "\n",
    "'''\n",
    "[\n",
    "    ['5', '3', '4', '6', '7', '8', '9', '1', '2'], \n",
    "    ['6', '7', '2', '1', '9', '5', '3', '4', '8'], \n",
    "    ['1', '9', '8', '3', '4', '2', '5', '6', '7'], \n",
    "    ['8', '5', '9', '7', '6', '1', '4', '2', '3'], \n",
    "    ['4', '2', '6', '8', '5', '3', '7', '9', '1'], \n",
    "    ['7', '1', '3', '9', '2', '4', '8', '5', '6'], \n",
    "    ['9', '6', '1', '5', '3', '7', '2', '8', '4'], \n",
    "    ['2', '8', '7', '4', '1', '9', '6', '3', '5'], \n",
    "    ['3', '4', '5', '2', '8', '6', '1', '7', '9']\n",
    "]\n",
    "'''"
   ]
  },
  {
   "cell_type": "code",
   "execution_count": 14,
   "id": "d2239592",
   "metadata": {},
   "outputs": [
    {
     "name": "stdout",
     "output_type": "stream",
     "text": [
      "3 3\n",
      "3 4\n",
      "3 5\n",
      "4 3\n",
      "4 4\n",
      "4 5\n",
      "5 3\n",
      "5 4\n",
      "5 5\n"
     ]
    }
   ],
   "source": [
    "# Understanding sub-boxes\n",
    "def sub_box(row, col, index):\n",
    "    sub_box_row = 3 * (row // 3) + index//3\n",
    "    sub_box_col = 3 * (col//3) + index%3\n",
    "    print(sub_box_row, sub_box_col)\n",
    "\n",
    "row =4\n",
    "col =4\n",
    "for index in range(9):\n",
    "    sub_box(row, col, index) "
   ]
  },
  {
   "cell_type": "code",
   "execution_count": null,
   "id": "9c68549e",
   "metadata": {},
   "outputs": [],
   "source": []
  }
 ],
 "metadata": {
  "kernelspec": {
   "display_name": "Python 3 (ipykernel)",
   "language": "python",
   "name": "python3"
  },
  "language_info": {
   "codemirror_mode": {
    "name": "ipython",
    "version": 3
   },
   "file_extension": ".py",
   "mimetype": "text/x-python",
   "name": "python",
   "nbconvert_exporter": "python",
   "pygments_lexer": "ipython3",
   "version": "3.11.7"
  }
 },
 "nbformat": 4,
 "nbformat_minor": 5
}
