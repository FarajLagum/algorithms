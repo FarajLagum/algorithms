{
 "cells": [
  {
   "cell_type": "markdown",
   "metadata": {},
   "source": [
    "# Can Sum: Dynamic Programming\n",
    "\n",
    "**canSum -> Decision Problem**\n",
    "\n",
    "**howSum — Combinatoric Problem**\n",
    "\n",
    "**bestSum —» Optimization Problem**\n",
    "\n",
    "\n",
    "\n",
    "Write a function `canSum(targetSum, numbers)` that takes in a targetSum and an array of numbers as arguments. The function should return a boolean indicating whether or not it is possible to generate the `targetSum` using numbers from the array.\n",
    "  \n",
    "You may use an element of the array as many times as needed. You may assume that **all input numbers are nonnegative**.  \n",
    "\n",
    "\n",
    "`canSum(7, [5, 3, 4, 7])`  --> `True`"
   ]
  },
  {
   "cell_type": "markdown",
   "metadata": {},
   "source": [
    "![Alt text](images/cansum2.png)"
   ]
  },
  {
   "cell_type": "markdown",
   "metadata": {},
   "source": [
    "![Alt text](images/cansum3.png)"
   ]
  },
  {
   "cell_type": "code",
   "execution_count": 1,
   "metadata": {},
   "outputs": [
    {
     "name": "stdout",
     "output_type": "stream",
     "text": [
      "True\n",
      "True\n"
     ]
    }
   ],
   "source": [
    "# Recursion brute-force\n",
    "# time: O(n^m) ... n = len(numbers) ; m = target_sum\n",
    "# Space: O(m)\n",
    "\n",
    "def can_sum(target_sum, numbers):\n",
    "    if target_sum == 0:\n",
    "        return True\n",
    "    if target_sum < 0:\n",
    "        return False\n",
    "    for num in numbers:\n",
    "        remainder = target_sum - num\n",
    "        if can_sum(remainder, numbers) == True:\n",
    "            return True\n",
    "    \n",
    "    return False\n",
    "\n",
    "print(can_sum(7, [1, 2,3, 4, 7]))\n",
    "print(can_sum(300, [1, 2,3, 4, 7]))"
   ]
  },
  {
   "cell_type": "markdown",
   "metadata": {},
   "source": [
    "![Alt text](images/cansum4.png)"
   ]
  },
  {
   "cell_type": "code",
   "execution_count": 2,
   "metadata": {},
   "outputs": [
    {
     "name": "stdout",
     "output_type": "stream",
     "text": [
      "True\n",
      "True\n"
     ]
    }
   ],
   "source": [
    "# Recursion Memoization\n",
    "# time: O(n*m) ... n = len(numbers) ; m = target_sum\n",
    "# Space: O(m)\n",
    "def can_sum(target_sum, numbers, memo={}):\n",
    "    if target_sum in memo:\n",
    "        return memo[target_sum]\n",
    "    if target_sum == 0:\n",
    "        return True\n",
    "    if target_sum < 0:\n",
    "        return False\n",
    "    for num in numbers:\n",
    "        remainder = target_sum - num\n",
    "        if can_sum(remainder, numbers) == True:\n",
    "            memo[target_sum]= True\n",
    "            return True\n",
    "    \n",
    "    return False\n",
    "\n",
    "print(can_sum(7, [1, 2,3, 4, 7]))\n",
    "print(can_sum(500, [1, 2,3, 4, 7]))"
   ]
  },
  {
   "cell_type": "markdown",
   "metadata": {},
   "source": [
    "# Tabulation"
   ]
  },
  {
   "cell_type": "code",
   "execution_count": 1,
   "metadata": {},
   "outputs": [
    {
     "name": "stdout",
     "output_type": "stream",
     "text": [
      "True\n",
      "True\n",
      "False\n",
      "True\n"
     ]
    }
   ],
   "source": [
    "# an element can be used multiple times\n",
    "def can_sum(target_sum, numbers):\n",
    "    table = [False] * (target_sum + 1)\n",
    "    table[0] = True\n",
    "    for i in range(target_sum + 1):\n",
    "        if table[i]:\n",
    "            for num in numbers:\n",
    "                if i + num <= target_sum:\n",
    "                    table[i + num] = True\n",
    "    return table[target_sum]\n",
    "\n",
    "print(can_sum(7, [2, 3]))  # True\n",
    "print(can_sum(7, [5, 3, 4, 7]))  # True\n",
    "print(can_sum(7, [2, 4]))  # False\n",
    "print(can_sum(8, [2, 3, 5]))  # True\n"
   ]
  }
 ],
 "metadata": {
  "kernelspec": {
   "display_name": "Python 3",
   "language": "python",
   "name": "python3"
  },
  "language_info": {
   "codemirror_mode": {
    "name": "ipython",
    "version": 3
   },
   "file_extension": ".py",
   "mimetype": "text/x-python",
   "name": "python",
   "nbconvert_exporter": "python",
   "pygments_lexer": "ipython3",
   "version": "3.11.7"
  }
 },
 "nbformat": 4,
 "nbformat_minor": 2
}
