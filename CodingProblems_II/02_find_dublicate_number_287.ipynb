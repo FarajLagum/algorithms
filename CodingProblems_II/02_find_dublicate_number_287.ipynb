{
 "cells": [
  {
   "cell_type": "markdown",
   "id": "ba8fb61c",
   "metadata": {},
   "source": [
    "# 287. Find the Duplicate Number\n",
    "https://leetcode.com/problems/find-the-duplicate-number/description/\n",
    "\n",
    "Given an array of integers nums containing n + 1 integers where each integer is in the range [1, n] inclusive.\n",
    "\n",
    "There is only one repeated number in nums, return this repeated number.\n",
    "\n",
    "You must solve the problem without modifying the array nums and uses only constant extra space.\n",
    "\n",
    " \n",
    "\n",
    "Example 1:\n",
    "\n",
    "Input: nums = [1,3,4,2,2]\n",
    "Output: 2\n",
    "Example 2:\n",
    "\n",
    "Input: nums = [3,1,3,4,2]\n",
    "Output: 3\n",
    " \n",
    "\n",
    "Constraints:\n",
    "\n",
    "`1 <= n <= 105`\n",
    "\n",
    "`nums.length == n + 1`\n",
    "\n",
    "`1 <= nums[i] <= n`\n",
    "\n",
    "All the integers in nums appear only once except for precisely one integer which appears two or more times.\n",
    "\n",
    "\n",
    "\n",
    "**Soultions:**\n",
    "https://leetcode.com/problems/find-the-duplicate-number/solutions/4062141/97-77-6-approaches-set-count-binary-search-fast-slow-mark-sort/"
   ]
  },
  {
   "cell_type": "markdown",
   "id": "ae1e7156",
   "metadata": {},
   "source": [
    "# Hashmap"
   ]
  },
  {
   "cell_type": "code",
   "execution_count": 20,
   "id": "f7fb4d89-470d-43a7-8558-4f54364fac01",
   "metadata": {},
   "outputs": [
    {
     "name": "stdout",
     "output_type": "stream",
     "text": [
      "2\n"
     ]
    }
   ],
   "source": [
    "from collections import defaultdict\n",
    "\n",
    "nums = [1,3,4,2,2]\n",
    "\n",
    "\n",
    "def find_dublicate(nums):\n",
    "    hashmap =defaultdict(int)\n",
    "    # print(list(hashmap.values()))\n",
    "    for num in nums:\n",
    "        if num in hashmap:\n",
    "            return num\n",
    "        hashmap[num] +=1\n",
    "        #print(list(hashmap.values()))\n",
    "    \n",
    "\n",
    "\n",
    "print(find_dublicate(nums))"
   ]
  },
  {
   "cell_type": "markdown",
   "id": "ab133384",
   "metadata": {},
   "source": [
    "# Set"
   ]
  },
  {
   "cell_type": "code",
   "execution_count": 11,
   "id": "cf19a753",
   "metadata": {},
   "outputs": [
    {
     "name": "stdout",
     "output_type": "stream",
     "text": [
      "2\n"
     ]
    }
   ],
   "source": [
    "nums = [1,3,4,2,2]\n",
    "\n",
    "\n",
    "def find_dublicate(nums):\n",
    "    seen =set()\n",
    "    for num in nums:\n",
    "        if num in seen:\n",
    "            return num\n",
    "        seen.add(num)\n",
    "\n",
    "\n",
    "print(find_dublicate(nums))"
   ]
  },
  {
   "cell_type": "markdown",
   "id": "8d68d2bb",
   "metadata": {},
   "source": [
    "# Marking in Array Approach\n",
    "\n",
    "This soultion works because of the fact that `nums`, containing `n+1` integers where each integer is in the range `[1,n]` inclusive,\n"
   ]
  },
  {
   "cell_type": "code",
   "execution_count": 1,
   "id": "6eb548fc",
   "metadata": {},
   "outputs": [
    {
     "name": "stdout",
     "output_type": "stream",
     "text": [
      "2\n"
     ]
    }
   ],
   "source": [
    "\n",
    "def find_dublicate(nums):\n",
    "    for num in nums:\n",
    "        index = abs(num)\n",
    "        #print(index)\n",
    "        if nums[index] < 0: # if the number is dublicate, then it is seen and marked before \n",
    "            return index\n",
    "        nums[index] *= -1 # mark the number by - sign\n",
    "    return \n",
    "\n",
    "nums = [1,3,4,2,2]\n",
    "\n",
    "print(find_dublicate(nums))\n",
    "#print(nums)"
   ]
  },
  {
   "cell_type": "code",
   "execution_count": null,
   "id": "ed36677a",
   "metadata": {},
   "outputs": [],
   "source": []
  }
 ],
 "metadata": {
  "kernelspec": {
   "display_name": "Python 3 (ipykernel)",
   "language": "python",
   "name": "python3"
  },
  "language_info": {
   "codemirror_mode": {
    "name": "ipython",
    "version": 3
   },
   "file_extension": ".py",
   "mimetype": "text/x-python",
   "name": "python",
   "nbconvert_exporter": "python",
   "pygments_lexer": "ipython3",
   "version": "3.11.7"
  }
 },
 "nbformat": 4,
 "nbformat_minor": 5
}
