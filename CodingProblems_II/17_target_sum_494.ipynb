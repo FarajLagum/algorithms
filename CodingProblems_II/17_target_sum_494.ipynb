{
 "cells": [
  {
   "cell_type": "markdown",
   "id": "a0738314",
   "metadata": {},
   "source": [
    "# 494. Target Sum\n",
    "\n",
    "\n",
    "You are given an integer array `nums` and an integer target.\n",
    "\n",
    "You want to build an expression out of `nums` by adding one of the symbols '+' and '-' before each integer in nums and then concatenate all the integers.\n",
    "\n",
    "For example, if nums = [2, 1], you can add a '+' before 2 and a '-' before 1 and concatenate them to build the expression \"+2-1\".\n",
    "Return the number of different expressions that you can build, which evaluates to target.\n",
    "\n",
    " \n",
    "\n",
    "Example 1:\n",
    "\n",
    "Input: nums = [1,1,1,1,1], target = 3\n",
    "Output: 5\n",
    "\n",
    "Explanation: There are 5 ways to assign symbols to make the sum of nums be target 3.\n",
    "\n",
    "-1 + 1 + 1 + 1 + 1 = 3\n",
    "+1 - 1 + 1 + 1 + 1 = 3\n",
    "+1 + 1 - 1 + 1 + 1 = 3\n",
    "+1 + 1 + 1 - 1 + 1 = 3\n",
    "+1 + 1 + 1 + 1 - 1 = 3\n",
    "\n",
    "\n",
    "Example 2:\n",
    "\n",
    "Input: nums = [1], target = 1\n",
    "Output: 1"
   ]
  },
  {
   "cell_type": "code",
   "execution_count": 82,
   "id": "54d1d58c",
   "metadata": {},
   "outputs": [
    {
     "name": "stdout",
     "output_type": "stream",
     "text": [
      "5\n",
      "1\n"
     ]
    }
   ],
   "source": [
    "# time: O(n * sum(nums)), where n is the number of elements in nums\n",
    "\n",
    "def findTargetSumWays(nums, target):\n",
    "    count = {0: 1} # This means that there is one way to get a sum of 0 (by using no numbers).\n",
    "    for num in nums: # iterates over each number in the input list nums.\n",
    "\n",
    "        #  For each number x, a new dictionary step is created. \n",
    "        # This dic store the number of ways to get each possible sum \n",
    "        # by either adding or subtracting x from each sum in count.\n",
    "        state = {} \n",
    "        for y in count: # iterate over dic.keys():\n",
    "            state[y + num] = state.get(y + num, 0) + count[y]\n",
    "            state[y - num] = state.get(y - num, 0) + count[y]\n",
    "        count = state\n",
    "    return count.get(target, 0)\n",
    "\n",
    "\n",
    "nums = [1,1,1,1,1]\n",
    "target = 3\n",
    "print(findTargetSumWays(nums, target))  # Output: 5\n",
    "\n",
    "nums = [1]\n",
    "target = 1\n",
    "print(findTargetSumWays(nums, target))  # Output: 1\n"
   ]
  },
  {
   "cell_type": "code",
   "execution_count": 81,
   "id": "eff5ac91",
   "metadata": {},
   "outputs": [
    {
     "name": "stdout",
     "output_type": "stream",
     "text": [
      "0\n",
      "1\n",
      "-1\n",
      "2\n",
      "0\n",
      "-2\n",
      "3\n",
      "1\n",
      "-1\n",
      "-3\n",
      "4\n",
      "2\n",
      "0\n",
      "-2\n",
      "-4\n",
      "0\n",
      "0\n",
      "1\n"
     ]
    }
   ],
   "source": [
    "# time: O(n * sum(nums)), where n is the number of elements in nums\n",
    "from collections import defaultdict\n",
    "\n",
    "def findTargetSumWays(nums, target):\n",
    "    count = defaultdict(int)\n",
    "    # base case\n",
    "    count = {0: 1} # This means that there is one way to get a sum of 0 (by using no numbers).\n",
    "    for num in nums: # iterates over each number in the input list nums.\n",
    "\n",
    "        #  For each number x, a new dictionary step is created. \n",
    "        # This dic store the number of ways to get each possible sum \n",
    "        # by either adding or subtracting x from each sum in count.\n",
    "        state = defaultdict(int)\n",
    "        for x in count.keys():\n",
    "            print(x)\n",
    "            state[x + num] += count[x]\n",
    "            state[x - num] += count[x]\n",
    "        count = state\n",
    "    return count[target]\n",
    "\n",
    "\n",
    "nums = [1,1,1,1,1]\n",
    "target = 30\n",
    "print(findTargetSumWays(nums, target))  # Output: 5\n",
    "\n",
    "nums = [1]\n",
    "target = 1\n",
    "print(findTargetSumWays(nums, target))  # Output: 1\n"
   ]
  },
  {
   "cell_type": "code",
   "execution_count": 72,
   "id": "7903f0c8",
   "metadata": {},
   "outputs": [
    {
     "name": "stdout",
     "output_type": "stream",
     "text": [
      "5\n",
      "1\n"
     ]
    }
   ],
   "source": [
    "# easy to undersatnd but O(2^n)\n",
    "def findTargetSumWays(nums, target):\n",
    "    def backtrack(start, total):\n",
    "        if start == len(nums):\n",
    "            if total == target:\n",
    "                count[0]+=1\n",
    "                \n",
    "        if start < len(nums):\n",
    "            backtrack(start + 1, total + nums[start])\n",
    "            backtrack(start + 1, total - nums[start])\n",
    "\n",
    "    #count = 0\n",
    "    backtrack(0, 0)\n",
    "    return count[0]\n",
    "'''\n",
    "def findTargetSumWays(nums, target):\n",
    "    def backtrack(start, total):\n",
    "        if start == len(nums):\n",
    "            if total == target:\n",
    "                nonlocal count\n",
    "                count += 1\n",
    "        else:\n",
    "            backtrack(start + 1, total + nums[start])\n",
    "            backtrack(start + 1, total - nums[start])\n",
    "\n",
    "    count = 0\n",
    "    backtrack(0, 0)\n",
    "    return count\n",
    "\n",
    "'''\n",
    "count=[0]\n",
    "nums = [1,1,1,1,1]\n",
    "target = 3\n",
    "print(findTargetSumWays(nums, target))  # Output: 5\n",
    "\n",
    "\n",
    "count=[0]\n",
    "nums = [1]\n",
    "target = 1\n",
    "print(findTargetSumWays(nums, target))  # Output: 1"
   ]
  },
  {
   "cell_type": "code",
   "execution_count": 75,
   "id": "309641d4",
   "metadata": {},
   "outputs": [
    {
     "name": "stdout",
     "output_type": "stream",
     "text": [
      "['+1+1+1+1-1', '+1+1+1-1+1', '+1+1-1+1+1', '+1-1+1+1+1', '-1+1+1+1+1']\n"
     ]
    }
   ],
   "source": [
    "# form scratch {No validated solution}\n",
    "def search(nums, total, path, start_index):\n",
    "    if start_index == len(nums) and total == target + 1 and len(path) == len(nums):\n",
    "        result.append(''.join(path.copy()))\n",
    "        return\n",
    "\n",
    "    for candiadte_index in range(start_index, len(nums)):\n",
    "        path.append(\"+\"+str(nums[candiadte_index]))\n",
    "        search(nums, total+nums[candiadte_index], path, candiadte_index+1)\n",
    "        path.pop()\n",
    "        path.append(\"-\"+str(nums[candiadte_index]))\n",
    "        search(nums, total-nums[candiadte_index], path, candiadte_index+1)\n",
    "        path.pop()\n",
    "\n",
    "\n",
    "\n",
    "\n",
    "\n",
    "def target_sum(nums, target):\n",
    "\n",
    "    path = []\n",
    "    search(nums, nums[0], path, 0)\n",
    "\n",
    "    return result\n",
    "\n",
    "result =[] \n",
    "\n",
    "nums = [1, 1, 1, 1, 1]\n",
    "target = 3\n",
    "print(target_sum(nums, target))\n",
    "\n",
    "#print(result)\n",
    "\n"
   ]
  },
  {
   "cell_type": "code",
   "execution_count": 84,
   "id": "d7b52220",
   "metadata": {},
   "outputs": [
    {
     "name": "stdout",
     "output_type": "stream",
     "text": [
      "5\n"
     ]
    }
   ],
   "source": [
    "   \n",
    "def findTargetSumWays(nums: list[int], target: int) -> int:     \n",
    "    dic = defaultdict(int)\n",
    "    \n",
    "    def dfs(index=0, total=0):          \n",
    "        key = (index, total)\n",
    "        \n",
    "        if key not in dic:\n",
    "            if index == len(nums):                    \n",
    "                return 1 if total == target else 0\n",
    "            else:\n",
    "                dic[key] = dfs(index+1, total + nums[index]) + dfs(index+1, total - nums[index])                    \n",
    "                    \n",
    "        return dic[key]                                                             \n",
    "            \n",
    "    return dfs()\n",
    "\n",
    "\n",
    "nums = [1, 1, 1, 1, 1]\n",
    "target = 3\n",
    "print(findTargetSumWays(nums, target))\n",
    "\n",
    "#print(result)\n"
   ]
  },
  {
   "cell_type": "markdown",
   "id": "b18f68e2",
   "metadata": {},
   "source": [
    "# knapsack\n",
    "\n",
    "\n",
    "https://leetcode.com/problems/target-sum/solutions/3283014/494-time-92-20-and-space-96-14-solution-with-step-by-step-explanation/"
   ]
  },
  {
   "cell_type": "markdown",
   "id": "1965e543",
   "metadata": {},
   "source": []
  },
  {
   "cell_type": "code",
   "execution_count": 89,
   "id": "ddece9f9",
   "metadata": {},
   "outputs": [
    {
     "name": "stdout",
     "output_type": "stream",
     "text": [
      "5\n",
      "1\n"
     ]
    }
   ],
   "source": [
    "def findTargetSumWays(nums, target):\n",
    "    summ = sum(nums)\n",
    "    if summ < abs(target) or (summ + target) & 1:\n",
    "        return 0\n",
    "\n",
    "    def knapsack(target):\n",
    "        dp = [1] + [0] * summ\n",
    "        for num in nums:\n",
    "            for j in range(summ, num - 1, -1):\n",
    "                dp[j] += dp[j - num]\n",
    "        return dp[target]\n",
    "\n",
    "    return knapsack((summ + target) // 2)\n",
    "\n",
    "\n",
    "nums = [1,1,1,1,1]\n",
    "target = 3\n",
    "print(findTargetSumWays(nums, target))  # Output: 5\n",
    "\n",
    "nums = [1]\n",
    "target = 1\n",
    "print(findTargetSumWays(nums, target))  # Output: 1\n"
   ]
  }
 ],
 "metadata": {
  "kernelspec": {
   "display_name": "Python 3 (ipykernel)",
   "language": "python",
   "name": "python3"
  },
  "language_info": {
   "codemirror_mode": {
    "name": "ipython",
    "version": 3
   },
   "file_extension": ".py",
   "mimetype": "text/x-python",
   "name": "python",
   "nbconvert_exporter": "python",
   "pygments_lexer": "ipython3",
   "version": "3.11.7"
  }
 },
 "nbformat": 4,
 "nbformat_minor": 5
}
