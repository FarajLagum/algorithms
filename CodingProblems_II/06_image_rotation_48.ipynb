{
 "cells": [
  {
   "cell_type": "markdown",
   "id": "330f71ea",
   "metadata": {},
   "source": [
    "# 48. Rotate Image (Not transpose)\n",
    "https://leetcode.com/problems/rotate-image/description/\n",
    "\n",
    "**Note that the required rotation is not a traspose operation**"
   ]
  },
  {
   "cell_type": "code",
   "execution_count": 1,
   "id": "26aec1b0",
   "metadata": {},
   "outputs": [
    {
     "name": "stdout",
     "output_type": "stream",
     "text": [
      "Original Matrix:\n",
      "[[1, 2, 3], [4, 5, 6], [7, 8, 9]]\n",
      "\\Rotated Matrix:\n",
      "[[7, 4, 1], [8, 5, 2], [9, 6, 3]]\n"
     ]
    }
   ],
   "source": [
    "def rotation(matrix):\n",
    "    # reverse\n",
    "    l = 0\n",
    "    r = len(matrix) -1\n",
    "    while l < r:\n",
    "        matrix[l], matrix[r] = matrix[r], matrix[l]\n",
    "        l += 1\n",
    "        r -= 1\n",
    "    # transpose \n",
    "    for i in range(len(matrix)):\n",
    "        for j in range(i):\n",
    "            matrix[i][j], matrix[j][i] = matrix[j][i], matrix[i][j]\n",
    "\n",
    "    return matrix\n",
    "\n",
    "\n",
    "# Example usage:\n",
    "original_matrix = [\n",
    "    [1, 2, 3],\n",
    "    [4, 5, 6],\n",
    "    [7, 8, 9]\n",
    "]\n",
    "\n",
    "print(\"Original Matrix:\")\n",
    "print(original_matrix)\n",
    "print(\"\\Rotated Matrix:\")\n",
    "print(rotation(original_matrix))\n"
   ]
  },
  {
   "cell_type": "code",
   "execution_count": 3,
   "id": "ef2d412a",
   "metadata": {},
   "outputs": [
    {
     "name": "stdout",
     "output_type": "stream",
     "text": [
      "Original Matrix:\n",
      "[[1, 2, 3], [4, 5, 6], [7, 8, 9]]\n",
      "\\Rotated Matrix:\n",
      "[[7, 4, 1], [8, 5, 2], [9, 6, 3]]\n"
     ]
    }
   ],
   "source": [
    "def rotate(matrix):\n",
    "    \"\"\"\n",
    "    Do not return anything, modify matrix in-place instead.\n",
    "    \"\"\"\n",
    "    \n",
    "    \n",
    "    n = len(matrix)\n",
    "    \n",
    "    # iterate through matrix\n",
    "    for i in range(n):\n",
    "        for j in range(i,n): # range(i+1,n)\n",
    "        \n",
    "            # transpose the matrix, turning rows into columns and vice versa\n",
    "            matrix[i][j],matrix[j][i] = matrix[j][i],matrix[i][j]\n",
    "        \n",
    "        # reverse the resulting rows\n",
    "        matrix[i].reverse() # reverse row by row\n",
    "    return matrix\n",
    "\n",
    "\n",
    "# Example usage:\n",
    "original_matrix = [\n",
    "    [1, 2, 3],\n",
    "    [4, 5, 6],\n",
    "    [7, 8, 9]\n",
    "]\n",
    "\n",
    "print(\"Original Matrix:\")\n",
    "print(original_matrix)\n",
    "print(\"\\Rotated Matrix:\")\n",
    "print(rotate(original_matrix))\n"
   ]
  },
  {
   "cell_type": "code",
   "execution_count": 18,
   "id": "e78ffc16",
   "metadata": {},
   "outputs": [
    {
     "name": "stdout",
     "output_type": "stream",
     "text": [
      "Original Matrix:\n",
      "[[1, 2, 3], [4, 5, 6], [7, 8, 9]]\n",
      "\\Rotated Matrix:\n",
      "[[7, 4, 1], [8, 5, 2], [9, 6, 3]]\n"
     ]
    }
   ],
   "source": [
    "def transpose(matrix):\n",
    "\n",
    "    \n",
    "    n = len(matrix)\n",
    "    # iterate through matrix\n",
    "    for i in range(n):\n",
    "        for j in range(i+1,n):\n",
    "        \n",
    "            # transpose the matrix, turning rows into columns and vice versa\n",
    "            matrix[i][j],matrix[j][i] = matrix[j][i],matrix[i][j]\n",
    "    return matrix\n",
    "\n",
    "\n",
    "def rotate(matrix):\n",
    "    matrix = transpose(matrix)\n",
    "\n",
    "    # Reverse each row\n",
    "    for i in range(len(matrix)):\n",
    "        matrix[i].reverse()\n",
    "\n",
    "    return matrix\n",
    "\n",
    "# Example usage:\n",
    "original_matrix = [\n",
    "    [1, 2, 3],\n",
    "    [4, 5, 6],\n",
    "    [7, 8, 9]\n",
    "]\n",
    "\n",
    "print(\"Original Matrix:\")\n",
    "print(original_matrix)\n",
    "print(\"\\Rotated Matrix:\")\n",
    "print(rotate(original_matrix))\n"
   ]
  },
  {
   "cell_type": "code",
   "execution_count": 19,
   "id": "9dabc01f",
   "metadata": {},
   "outputs": [
    {
     "name": "stdout",
     "output_type": "stream",
     "text": [
      "[[7, 8, 9], [4, 5, 6], [1, 2, 3]]\n",
      "None\n",
      "[[7, 8, 9], [4, 5, 6], [1, 2, 3]]\n"
     ]
    }
   ],
   "source": [
    "# Example usage:\n",
    "original_matrix = [\n",
    "    [1, 2, 3],\n",
    "    [4, 5, 6],\n",
    "    [7, 8, 9]\n",
    "]\n",
    "\n",
    "\n",
    "print(list(reversed(original_matrix))) # Not In-place, Creating reversed copy\n",
    "\n",
    "# Trying to assign the return value of .reverse() to a variable is a common mistake\n",
    "print(original_matrix.reverse()) # In-place, .reverse() doesn’t return a new list but None\n",
    "\n",
    "print(original_matrix) # reversed matrix\n"
   ]
  },
  {
   "cell_type": "markdown",
   "id": "dcea510e",
   "metadata": {},
   "source": [
    "# Transpose"
   ]
  },
  {
   "cell_type": "code",
   "execution_count": 5,
   "metadata": {},
   "outputs": [
    {
     "name": "stdout",
     "output_type": "stream",
     "text": [
      "Original Matrix:\n",
      "[[1 2 3]\n",
      " [4 5 6]\n",
      " [7 8 9]]\n",
      "\n",
      "Transposed Matrix:\n",
      "[[1 4 7]\n",
      " [2 5 8]\n",
      " [3 6 9]]\n"
     ]
    }
   ],
   "source": [
    "import numpy as np\n",
    "\n",
    "# Your original matrix\n",
    "original_matrix = np.array([[1, 2, 3],\n",
    "                            [4, 5, 6],\n",
    "                            [7, 8, 9]])\n",
    "\n",
    "# Transpose the matrix\n",
    "transposed_matrix = np.transpose(original_matrix)\n",
    "\n",
    "# Alternatively, you can use the T attribute\n",
    "# transposed_matrix = original_matrix.T\n",
    "\n",
    "print(\"Original Matrix:\")\n",
    "print(original_matrix)\n",
    "print(\"\\nTransposed Matrix:\")\n",
    "print(transposed_matrix)\n"
   ]
  },
  {
   "cell_type": "code",
   "execution_count": 6,
   "id": "b7dc6ec2",
   "metadata": {},
   "outputs": [
    {
     "name": "stdout",
     "output_type": "stream",
     "text": [
      "Original Matrix:\n",
      "[1, 2, 3]\n",
      "[4, 5, 6]\n",
      "[7, 8, 9]\n",
      "\n",
      "Transposed Matrix:\n",
      "[1, 4, 7]\n",
      "[2, 5, 8]\n",
      "[3, 6, 9]\n"
     ]
    }
   ],
   "source": [
    "def transpose_matrix(matrix):\n",
    "    # Get the number of rows and columns\n",
    "    rows = len(matrix)\n",
    "    cols = len(matrix[0])\n",
    "\n",
    "    # Initialize a new matrix with swapped rows and columns\n",
    "    transposed_matrix = [[0] * rows for _ in range(cols)]\n",
    "\n",
    "    # Fill in the transposed matrix\n",
    "    for i in range(rows):\n",
    "        for j in range(cols):\n",
    "            transposed_matrix[i][j] = matrix[j][i]\n",
    "\n",
    "    return transposed_matrix\n",
    "\n",
    "# Example usage:\n",
    "original_matrix = [\n",
    "    [1, 2, 3],\n",
    "    [4, 5, 6],\n",
    "    [7, 8, 9]\n",
    "]\n",
    "\n",
    "transposed_matrix = transpose_matrix(original_matrix)\n",
    "\n",
    "print(\"Original Matrix:\")\n",
    "for row in original_matrix:\n",
    "    print(row)\n",
    "\n",
    "print(\"\\nTransposed Matrix:\")\n",
    "for row in transposed_matrix:\n",
    "    print(row)\n"
   ]
  },
  {
   "cell_type": "code",
   "execution_count": 5,
   "id": "0d5a4253",
   "metadata": {},
   "outputs": [
    {
     "name": "stdout",
     "output_type": "stream",
     "text": [
      "Original Matrix:\n",
      "[1, 2, 3]\n",
      "[4, 5, 6]\n",
      "[7, 8, 9]\n",
      "\n",
      "In-Place Transposed Matrix:\n",
      "[1, 4, 7]\n",
      "[2, 5, 8]\n",
      "[3, 6, 9]\n"
     ]
    }
   ],
   "source": [
    "def in_place_transpose(matrix):\n",
    "    # Get the number of rows and columns\n",
    "    rows = len(matrix)\n",
    "    cols = len(matrix[0])\n",
    "\n",
    "    for i in range(rows):\n",
    "        for j in range(i + 1, cols):\n",
    "            # Swap elements across the main diagonal\n",
    "            matrix[i][j], matrix[j][i] = matrix[j][i], matrix[i][j]\n",
    "\n",
    "# Example usage:\n",
    "original_matrix = [\n",
    "    [1, 2, 3],\n",
    "    [4, 5, 6],\n",
    "    [7, 8, 9]\n",
    "]\n",
    "\n",
    "print(\"Original Matrix:\")\n",
    "for row in original_matrix:\n",
    "    print(row)\n",
    "\n",
    "in_place_transpose(original_matrix)\n",
    "\n",
    "print(\"\\nIn-Place Transposed Matrix:\")\n",
    "for row in original_matrix:\n",
    "    print(row)\n"
   ]
  }
 ],
 "metadata": {
  "kernelspec": {
   "display_name": "Python 3 (ipykernel)",
   "language": "python",
   "name": "python3"
  },
  "language_info": {
   "codemirror_mode": {
    "name": "ipython",
    "version": 3
   },
   "file_extension": ".py",
   "mimetype": "text/x-python",
   "name": "python",
   "nbconvert_exporter": "python",
   "pygments_lexer": "ipython3",
   "version": "3.11.7"
  }
 },
 "nbformat": 4,
 "nbformat_minor": 5
}
