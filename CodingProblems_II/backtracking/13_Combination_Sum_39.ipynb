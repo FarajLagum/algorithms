{
 "cells": [
  {
   "cell_type": "code",
   "execution_count": 5,
   "id": "9c68549e",
   "metadata": {},
   "outputs": [
    {
     "name": "stdout",
     "output_type": "stream",
     "text": [
      "[[2, 2, 3], [7]]\n",
      "[[2, 2, 2, 2], [2, 3, 3], [3, 5]]\n",
      "[]\n"
     ]
    }
   ],
   "source": [
    "def combinationSum(candidates, target):\n",
    "    def search(candidates, target, start_index, path, result):\n",
    "        if target < 0:\n",
    "            return  # backtracking\n",
    "        if target == 0:\n",
    "            result.append(path)\n",
    "            return \n",
    "        for candidate_index in range(start_index, len(candidates)):\n",
    "            search(candidates, target - candidates[candidate_index], candidate_index, path+[candidates[candidate_index]], result)\n",
    "\n",
    "    result = []\n",
    "    path =[]\n",
    "    start_index = 0\n",
    "    search(candidates, target, start_index, path, result)\n",
    "    return result\n",
    "\n",
    "print(combinationSum([2,3,6,7], 7))\n",
    "print(combinationSum([2,3,5], 8))\n",
    "print(combinationSum([2], 1))\n"
   ]
  },
  {
   "cell_type": "code",
   "execution_count": 6,
   "id": "dcf5e483",
   "metadata": {},
   "outputs": [
    {
     "name": "stdout",
     "output_type": "stream",
     "text": [
      "[[2, 2, 3], [7]]\n",
      "[[2, 2, 2, 2], [2, 3, 3], [3, 5]]\n",
      "[]\n"
     ]
    }
   ],
   "source": [
    "# reorganize to follow the backtracking template \n",
    "\n",
    "def search(candidates, target, start_index, path, result):\n",
    "    if target < 0: \n",
    "        return  # we’ve overshot --> backtracking\n",
    "    if target == 0:\n",
    "        result.append(path.copy()) # , we’ve found a successful combination\n",
    "        return \n",
    "    for candidate_index in range(start_index, len(candidates)):\n",
    "        path.append(candidates[candidate_index]) # mark\n",
    "        # subtracting the current number from target\n",
    "        target = target - candidates[candidate_index]\n",
    "        search(candidates, target, candidate_index, path , result)\n",
    "        target = target + candidates[candidate_index] # undo\n",
    "        path.pop() #unmark \n",
    "\n",
    "def combinationSum(candidates, target):\n",
    "    result = []\n",
    "    path =[]\n",
    "    start_index = 0\n",
    "    search(candidates, target, start_index, path, result)\n",
    "    return result\n",
    "\n",
    "print(combinationSum([2, 3, 6, 7], 7))\n",
    "print(combinationSum([2, 3, 5], 8))\n",
    "print(combinationSum([2], 1))\n"
   ]
  },
  {
   "cell_type": "code",
   "execution_count": 7,
   "id": "b4967b4e",
   "metadata": {},
   "outputs": [
    {
     "name": "stdout",
     "output_type": "stream",
     "text": [
      "[[2, 2, 3], [7]]\n",
      "[[2, 2, 2, 2], [2, 3, 3], [3, 5]]\n",
      "[]\n"
     ]
    }
   ],
   "source": [
    "# The search function performs a depth-first search to find all combinations that sum to the target.\n",
    "def search(candidates, target, start_index, path, result):\n",
    "    # If the target is less than 0, we've overshot the target sum, so we backtrack.\n",
    "    if target < 0: \n",
    "        return\n",
    "    # If the target is 0, we've found a successful combination, so we add it to the result.\n",
    "    if target == 0:\n",
    "        result.append(path.copy())\n",
    "        return \n",
    "    # We iterate over the candidates, starting from the start_index.\n",
    "    for candidate_index in range(start_index, len(candidates)):\n",
    "        # We add the current candidate to the path (mark).\n",
    "        path.append(candidates[candidate_index])\n",
    "        # We subtract the current candidate from the target.\n",
    "        target -= candidates[candidate_index]\n",
    "        # We perform a recursive search with the updated target and path, and the same start_index.\n",
    "        search(candidates, target, candidate_index, path , result)\n",
    "        # We add the current candidate back to the target (undo the subtraction).\n",
    "        target += candidates[candidate_index]\n",
    "        # We remove the current candidate from the path (unmark).\n",
    "        path.pop()\n",
    "\n",
    "# The combinationSum function sets up the necessary variables and starts the search.\n",
    "def combinationSum(candidates, target):\n",
    "    result = []\n",
    "    path = []\n",
    "    start_index = 0\n",
    "    # We start the search with the candidates, target, start_index, and empty path and result.\n",
    "    search(candidates, target, start_index, path, result)\n",
    "    # We return the result, which contains all combinations that sum to the target.\n",
    "    return result\n",
    "\n",
    "# We test the combinationSum function with some inputs.\n",
    "print(combinationSum([2, 3, 6, 7], 7))  # Expected output: [[2, 2, 3], [7]]\n",
    "print(combinationSum([2, 3, 5], 8))  # Expected output: [[2, 2, 2, 2], [2, 3, 3], [3, 5]]\n",
    "print(combinationSum([2], 1))  # Expected output: []\n"
   ]
  },
  {
   "cell_type": "markdown",
   "id": "e5783a52",
   "metadata": {},
   "source": [
    "# Complexity Analysis:\n",
    "\n",
    "`Time Complexity`: The time complexity of this solution is `O(N^(T/M))` where `N` is the number of candidates, `T` is the target value, and `M` is the minimal value among the candidates. This is because in the worst case, the solution will explore each possibility `(N^(T/M))` to find all unique combinations.\n",
    "\n",
    "`Space Complexity`: The space complexity is `O(T/M)` for the recursion stack. In the worst case, if the minimum value in the array is 1, then the maximum depth of the recursion is the value of the target."
   ]
  }
 ],
 "metadata": {
  "kernelspec": {
   "display_name": "Python 3 (ipykernel)",
   "language": "python",
   "name": "python3"
  },
  "language_info": {
   "codemirror_mode": {
    "name": "ipython",
    "version": 3
   },
   "file_extension": ".py",
   "mimetype": "text/x-python",
   "name": "python",
   "nbconvert_exporter": "python",
   "pygments_lexer": "ipython3",
   "version": "3.11.7"
  }
 },
 "nbformat": 4,
 "nbformat_minor": 5
}
