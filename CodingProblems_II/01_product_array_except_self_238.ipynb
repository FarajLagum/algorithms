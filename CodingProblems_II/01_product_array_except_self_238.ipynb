{
 "cells": [
  {
   "cell_type": "markdown",
   "id": "a3254790-f229-4555-9208-43c3c9481c05",
   "metadata": {},
   "source": [
    "# 238. Product of Array Except Self\n",
    "https://leetcode.com/problems/product-of-array-except-self/description/\n",
    "\n",
    "\n",
    "Given an integer array nums, return an array answer such that answer[i] is equal to the product of all the elements of nums except nums[i].\n",
    "\n",
    "The product of any prefix or suffix of nums is guaranteed to fit in a 32-bit integer.\n",
    "\n",
    "You must write an algorithm that runs in O(n) time and without using the division operation.\n",
    "\n",
    " \n",
    "\n",
    "**Example 1**:\n",
    "Input: nums = [1,2,3,4]\n",
    "Output: [24,12,8,6]\n",
    "\n",
    "\n",
    "**Example 2**:\n",
    "Input: nums = [-1,1,0,-3,3]\n",
    "Output: [0,0,9,0,0]\n",
    " \n",
    "\n",
    "Constraints:\n",
    "\n",
    "`2 <= nums.length <= 105`\n",
    "`-30 <= nums[i] <= 30`\n",
    "The product of any prefix or suffix of nums is guaranteed to fit in a `32-bit` integer.\n",
    "\n",
    "**Explaination:**\n",
    "\n",
    "https://www.youtube.com/watch?v=5bS636lE_R0&ab_channel=AlgoEngine"
   ]
  },
  {
   "cell_type": "markdown",
   "id": "070b9c62",
   "metadata": {},
   "source": [
    "# Solution 1"
   ]
  },
  {
   "cell_type": "code",
   "execution_count": 15,
   "id": "e18c8f02-2d72-4d95-86c7-0e64bb9cd328",
   "metadata": {},
   "outputs": [
    {
     "name": "stdout",
     "output_type": "stream",
     "text": [
      "[1, 2, 6, 24]\n",
      "2\n",
      "1\n",
      "0\n",
      "[60, 20, 5, 1]\n",
      "[60, 40, 30, 24]\n"
     ]
    }
   ],
   "source": [
    "def product_except_self(nums):\n",
    "    n = len(nums)\n",
    "    left, right, answer = [0]*n, [0]*n, [0]*n\n",
    "\n",
    "    left[0] = 1\n",
    "    for i in range(1, n):\n",
    "        left[i] = nums[i - 1] * left[i - 1]\n",
    "\n",
    "    print(left)\n",
    "\n",
    "    right[n - 1] = 1\n",
    "    for i in reversed(range(n - 1)):\n",
    "        print(i)\n",
    "        right[i] = nums[i + 1] * right[i + 1]\n",
    "\n",
    "    print(right)\n",
    "\n",
    "    for i in range(n):\n",
    "        answer[i] = left[i] * right[i]\n",
    "\n",
    "    return answer\n",
    "\n",
    "nums = [1, 2, 3, 4]\n",
    "nums = [2, 3, 4, 5]\n",
    "print(product_except_self(nums)) # Output: [24, 12, 8, 6]\n"
   ]
  },
  {
   "cell_type": "code",
   "execution_count": 14,
   "id": "8adb23e7",
   "metadata": {},
   "outputs": [
    {
     "name": "stdout",
     "output_type": "stream",
     "text": [
      "[60, 40, 30, 24]\n"
     ]
    }
   ],
   "source": [
    "def product_except_self(nums):\n",
    "    n = len(nums)\n",
    "    answer = [1] * n\n",
    "\n",
    "    left_product = 1\n",
    "\n",
    "    # Calculate the product of all elements to the left of nums[i]\n",
    "    for i in range(1, n):\n",
    "        answer[i] = left_product * nums[i - 1]\n",
    "        left_product = answer[i]\n",
    "\n",
    "    # Calculate the product of all elements to the right of nums[i]\n",
    "    right_product = 1\n",
    "    for i in reversed(range(n)):\n",
    "        answer[i] *= right_product\n",
    "        right_product *= nums[i]\n",
    "\n",
    "    return answer\n",
    "\n",
    "nums = [1, 2, 3, 4]\n",
    "nums = [2, 3, 4, 5]\n",
    "print(product_except_self(nums)) # Output: [24, 12, 8, 6]\n"
   ]
  },
  {
   "cell_type": "markdown",
   "id": "78dbf74f",
   "metadata": {},
   "source": [
    "# Neet Solution"
   ]
  },
  {
   "cell_type": "code",
   "execution_count": 1,
   "id": "4db065b3-6966-4991-a51c-7824710dcf32",
   "metadata": {},
   "outputs": [
    {
     "name": "stdout",
     "output_type": "stream",
     "text": [
      "[60, 40, 30, 24]\n"
     ]
    }
   ],
   "source": [
    "\n",
    "def product_except_self(nums):\n",
    "\n",
    "    n = len(nums)\n",
    "    left_product = 1\n",
    "    right_product = 1\n",
    "    result = [1]*n\n",
    "\n",
    "    for i in range(n):\n",
    "        result[i] *= left_product\n",
    "        left_product *= nums[i]\n",
    "        \n",
    "    for i in reversed(range(n)):\n",
    "        result[i] *= right_product\n",
    "        right_product *= nums[i]\n",
    "\n",
    "    return result\n",
    "\n",
    "nums = [2, 3, 4, 5]\n",
    "print(product_except_self(nums)) # Output: [24, 12, 8, 6]\n"
   ]
  },
  {
   "cell_type": "code",
   "execution_count": null,
   "id": "1f79e1f0",
   "metadata": {},
   "outputs": [],
   "source": []
  }
 ],
 "metadata": {
  "kernelspec": {
   "display_name": "Python 3 (ipykernel)",
   "language": "python",
   "name": "python3"
  },
  "language_info": {
   "codemirror_mode": {
    "name": "ipython",
    "version": 3
   },
   "file_extension": ".py",
   "mimetype": "text/x-python",
   "name": "python",
   "nbconvert_exporter": "python",
   "pygments_lexer": "ipython3",
   "version": "3.11.7"
  }
 },
 "nbformat": 4,
 "nbformat_minor": 5
}
