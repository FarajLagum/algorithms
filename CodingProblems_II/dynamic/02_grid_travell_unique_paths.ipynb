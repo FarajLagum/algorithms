{
 "cells": [
  {
   "cell_type": "markdown",
   "metadata": {},
   "source": [
    "# Dynamic Programming"
   ]
  },
  {
   "cell_type": "code",
   "execution_count": 18,
   "metadata": {},
   "outputs": [
    {
     "name": "stdout",
     "output_type": "stream",
     "text": [
      "[[-1, -1, -1], [-1, -1, -1]]\n",
      "3\n"
     ]
    }
   ],
   "source": [
    "# Dynamic programming\n",
    "def total_ways(i, j, m, n, dp):\n",
    "    if i >= m or j >= n:\n",
    "        return 0\n",
    "    if i == m - 1 and j == n - 1:\n",
    "        return 1\n",
    "    if dp[i][j] != -1:\n",
    "        return dp[i][j]\n",
    "\n",
    "    dp[i][j] = total_ways(i + 1, j, m, n, dp) + total_ways(i, j + 1, m, n, dp)\n",
    "    return dp[i][j]\n",
    "\n",
    "if __name__ == \"__main__\":\n",
    "    m, n = 2, 3  # Example values, you can change them\n",
    "    dp = [[-1] * n for _ in range(m)]\n",
    "    print(dp)\n",
    "    print(total_ways(0, 0, m, n, dp))\n",
    "\n"
   ]
  },
  {
   "cell_type": "markdown",
   "metadata": {},
   "source": [
    "# Recursion brute-force\n",
    " "
   ]
  },
  {
   "cell_type": "code",
   "execution_count": 1,
   "metadata": {},
   "outputs": [
    {
     "name": "stdout",
     "output_type": "stream",
     "text": [
      "3\n",
      "6\n"
     ]
    }
   ],
   "source": [
    "# Recursion brute-force\n",
    "def grid_traveler(m, n):\n",
    "    if m == 1 and n == 1:\n",
    "        return 1\n",
    "    if m == 0 or n == 0:\n",
    "        return 0\n",
    "    return grid_traveler(m-1, n) + grid_traveler(m, n-1)\n",
    "\n",
    "\n",
    "print(grid_traveler(3,2))\n",
    "print(grid_traveler(3,3))"
   ]
  },
  {
   "cell_type": "markdown",
   "metadata": {},
   "source": [
    "## Recursion: include the paths"
   ]
  },
  {
   "cell_type": "code",
   "execution_count": 4,
   "metadata": {},
   "outputs": [
    {
     "name": "stdout",
     "output_type": "stream",
     "text": [
      "Number of paths from (1,1) to (3,2): 3\n",
      "Paths from (1,1) to (3,2): [[(3, 2), (2, 2), (1, 2), (1, 1)], [(3, 2), (2, 2), (2, 1), (1, 1)], [(3, 2), (3, 1), (2, 1), (1, 1)]]\n",
      "Number of paths from (1,1) to (3,3): 6\n",
      "Paths from (1,1) to (3,3): [[(3, 3), (2, 3), (1, 3), (1, 2), (1, 1)], [(3, 3), (2, 3), (2, 2), (1, 2), (1, 1)], [(3, 3), (2, 3), (2, 2), (2, 1), (1, 1)], [(3, 3), (3, 2), (2, 2), (1, 2), (1, 1)], [(3, 3), (3, 2), (2, 2), (2, 1), (1, 1)], [(3, 3), (3, 2), (3, 1), (2, 1), (1, 1)]]\n"
     ]
    }
   ],
   "source": [
    "def grid_traveler(m, n, paths=None):\n",
    "    if paths is None:\n",
    "        paths = []\n",
    "    if m == 1 and n == 1:\n",
    "        return [paths + [(1, 1)]]\n",
    "    if m == 0 or n == 0:\n",
    "        return []\n",
    "\n",
    "    \n",
    "    right_paths = grid_traveler(m, n - 1, paths + [(m, n)])\n",
    "    down_paths = grid_traveler(m - 1, n, paths + [(m, n)])\n",
    "\n",
    "    return down_paths + right_paths\n",
    "\n",
    "\n",
    "# Example usage\n",
    "paths_3_2 = grid_traveler(3, 2)\n",
    "print(\"Number of paths from (1,1) to (3,2):\", len(paths_3_2))\n",
    "print(\"Paths from (1,1) to (3,2):\", paths_3_2)\n",
    "\n",
    "paths_3_3 = grid_traveler(3, 3)\n",
    "print(\"Number of paths from (1,1) to (3,3):\", len(paths_3_3))\n",
    "print(\"Paths from (1,1) to (3,3):\", paths_3_3)\n"
   ]
  },
  {
   "cell_type": "markdown",
   "metadata": {},
   "source": [
    "## Recursion - Memoization\n",
    "\n",
    "Note that `grid_traveler(a, b)` is silmiar to `grid_traveler(b, a)` if we want to count the number of paths/ways\n"
   ]
  },
  {
   "cell_type": "code",
   "execution_count": 5,
   "metadata": {},
   "outputs": [
    {
     "name": "stdout",
     "output_type": "stream",
     "text": [
      "3\n",
      "6\n",
      "2333606220\n"
     ]
    }
   ],
   "source": [
    "# Recursion - Memoization\n",
    "def grid_traveler(m, n, memo=None):\n",
    "    if memo is None:\n",
    "        memo = {}\n",
    "    key = f\"{m},{n}\"\n",
    "    if key in memo:\n",
    "        return memo[key]\n",
    "\n",
    "    if m == 1 and n == 1:\n",
    "        return 1\n",
    "    if m == 0 or n == 0:\n",
    "        return 0\n",
    "    memo[key] = grid_traveler(m-1, n, memo) + grid_traveler(m, n-1, memo)\n",
    "    return memo[key]\n",
    "\n",
    "\n",
    "print(grid_traveler(3,2))\n",
    "print(grid_traveler(3,3))\n",
    "print(grid_traveler(18,18))"
   ]
  },
  {
   "cell_type": "markdown",
   "metadata": {},
   "source": [
    "# Meomoization Recipe\n",
    "\n",
    "## Make it work\n",
    "* Visualize the problem as tree\n",
    "* Implement the tree using recursion\n",
    "* Test it\n",
    "## Make it efficent\n",
    "* Add a memo object\n",
    "* add a base case to return memo values\n",
    "* Store return values into the memo\n"
   ]
  }
 ],
 "metadata": {
  "kernelspec": {
   "display_name": "Python 3",
   "language": "python",
   "name": "python3"
  },
  "language_info": {
   "codemirror_mode": {
    "name": "ipython",
    "version": 3
   },
   "file_extension": ".py",
   "mimetype": "text/x-python",
   "name": "python",
   "nbconvert_exporter": "python",
   "pygments_lexer": "ipython3",
   "version": "3.11.7"
  }
 },
 "nbformat": 4,
 "nbformat_minor": 2
}
