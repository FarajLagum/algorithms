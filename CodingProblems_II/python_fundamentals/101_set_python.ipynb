{
 "cells": [
  {
   "cell_type": "markdown",
   "id": "11e8661a",
   "metadata": {},
   "source": [
    "| Operation                   | Equivalent | Result                                        |\n",
    "|-----------------------------|------------|-----------------------------------------------|\n",
    "| `len(s)`                    |            | Number of elements in set `s` (cardinality)   |\n",
    "| `x in s`                    |            | Test `x` for membership in `s`               |\n",
    "| `x not in s`                |            | Test `x` for non-membership in `s`           |\n",
    "| `s.issubset(t)`             | `s <= t`   | Test whether every element in `s` is in `t`  |\n",
    "| `s.issuperset(t)`           | `s >= t`   | Test whether every element in `t` is in `s`  |\n",
    "| `s.union(t)`                | `s  \\| t`    | New set with elements from both `s` and `t`  |\n",
    "| `s.intersection(t)`         | `s & t`    | New set with elements common to `s` and `t` |\n",
    "| `s.difference(t)`           | `s - t`    | New set with elements in `s` but not in `t`  |\n",
    "| `s.symmetric_difference(t)` | `s ^ t`    | New set with elements in either `s` or `t` but not both |\n",
    "| `s.copy()`                  |            | New set with a shallow copy of `s`           |\n"
   ]
  },
  {
   "cell_type": "code",
   "execution_count": 1,
   "id": "49fe4045",
   "metadata": {},
   "outputs": [],
   "source": [
    "s = set([1,2,3,4])\n",
    "t= set([3,4,5,6])"
   ]
  },
  {
   "cell_type": "code",
   "execution_count": 2,
   "id": "c112eef2",
   "metadata": {},
   "outputs": [
    {
     "name": "stdout",
     "output_type": "stream",
     "text": [
      "False\n"
     ]
    }
   ],
   "source": [
    "print(s in t)"
   ]
  },
  {
   "cell_type": "code",
   "execution_count": 4,
   "id": "a8d0b020",
   "metadata": {},
   "outputs": [
    {
     "data": {
      "text/plain": [
       "False"
      ]
     },
     "execution_count": 4,
     "metadata": {},
     "output_type": "execute_result"
    }
   ],
   "source": [
    "s.issubset(t)"
   ]
  },
  {
   "cell_type": "code",
   "execution_count": 5,
   "id": "b6678b30",
   "metadata": {},
   "outputs": [
    {
     "name": "stdout",
     "output_type": "stream",
     "text": [
      "False\n"
     ]
    }
   ],
   "source": [
    "print(s <= t)"
   ]
  },
  {
   "cell_type": "code",
   "execution_count": 7,
   "id": "0a4ffb16",
   "metadata": {},
   "outputs": [
    {
     "data": {
      "text/plain": [
       "False"
      ]
     },
     "execution_count": 7,
     "metadata": {},
     "output_type": "execute_result"
    }
   ],
   "source": [
    "s.issuperset(t)"
   ]
  },
  {
   "cell_type": "code",
   "execution_count": 8,
   "id": "3dece5a8",
   "metadata": {},
   "outputs": [
    {
     "name": "stdout",
     "output_type": "stream",
     "text": [
      "False\n"
     ]
    }
   ],
   "source": [
    "print(s >= t)"
   ]
  },
  {
   "cell_type": "code",
   "execution_count": 6,
   "id": "f23286f8",
   "metadata": {},
   "outputs": [
    {
     "data": {
      "text/plain": [
       "{1, 2, 3, 4, 5, 6}"
      ]
     },
     "execution_count": 6,
     "metadata": {},
     "output_type": "execute_result"
    }
   ],
   "source": [
    "s.union(t)"
   ]
  },
  {
   "cell_type": "code",
   "execution_count": 9,
   "id": "0f005a7f",
   "metadata": {},
   "outputs": [
    {
     "name": "stdout",
     "output_type": "stream",
     "text": [
      "{1, 2, 3, 4, 5, 6}\n"
     ]
    }
   ],
   "source": [
    "print(s | t)"
   ]
  },
  {
   "cell_type": "code",
   "execution_count": 10,
   "id": "11e77a7a",
   "metadata": {},
   "outputs": [
    {
     "data": {
      "text/plain": [
       "{3, 4}"
      ]
     },
     "execution_count": 10,
     "metadata": {},
     "output_type": "execute_result"
    }
   ],
   "source": [
    "s.intersection(t)"
   ]
  },
  {
   "cell_type": "code",
   "execution_count": 11,
   "id": "b73c4d27",
   "metadata": {},
   "outputs": [
    {
     "data": {
      "text/plain": [
       "{3, 4}"
      ]
     },
     "execution_count": 11,
     "metadata": {},
     "output_type": "execute_result"
    }
   ],
   "source": [
    "s & t"
   ]
  },
  {
   "cell_type": "code",
   "execution_count": 12,
   "id": "5ca1b07e",
   "metadata": {},
   "outputs": [
    {
     "data": {
      "text/plain": [
       "{1, 2}"
      ]
     },
     "execution_count": 12,
     "metadata": {},
     "output_type": "execute_result"
    }
   ],
   "source": [
    "s.difference(t)"
   ]
  },
  {
   "cell_type": "code",
   "execution_count": 14,
   "id": "8fd93c39",
   "metadata": {},
   "outputs": [
    {
     "data": {
      "text/plain": [
       "{5, 6}"
      ]
     },
     "execution_count": 14,
     "metadata": {},
     "output_type": "execute_result"
    }
   ],
   "source": [
    "t - s"
   ]
  },
  {
   "cell_type": "code",
   "execution_count": 15,
   "id": "47782c1c",
   "metadata": {},
   "outputs": [
    {
     "data": {
      "text/plain": [
       "{1, 2, 5, 6}"
      ]
     },
     "execution_count": 15,
     "metadata": {},
     "output_type": "execute_result"
    }
   ],
   "source": [
    "s.symmetric_difference(t)\n",
    "\n"
   ]
  },
  {
   "cell_type": "code",
   "execution_count": 16,
   "id": "15d3e0e8",
   "metadata": {},
   "outputs": [
    {
     "data": {
      "text/plain": [
       "{1, 2, 5, 6}"
      ]
     },
     "execution_count": 16,
     "metadata": {},
     "output_type": "execute_result"
    }
   ],
   "source": [
    "s ^ t"
   ]
  },
  {
   "cell_type": "markdown",
   "id": "b192a778",
   "metadata": {},
   "source": [
    "| Operation                        | Equivalent | Result                                                  |\n",
    "|----------------------------------|------------|---------------------------------------------------------|\n",
    "| `s.update(t)`                    | `s \\|= t`   | Return set `s` with elements added from `t`             |\n",
    "| `s.intersection_update(t)`      | `s &= t`   | Return set `s` keeping only elements also found in `t` |\n",
    "| `s.difference_update(t)`        | `s -= t`   | Return set `s` after removing elements found in `t`    |\n",
    "| `s.symmetric_difference_update(t)` | `s ^= t` | Return set `s` with elements from `s` or `t` but not both |\n",
    "| `s.add(x)`                       |            | Add element `x` to set `s`                              |\n",
    "| `s.remove(x)`                    |            | Remove `x` from set `s`; raises `KeyError` if not present |\n",
    "| `s.discard(x)`                   |            | Remove `x` from set `s` if present                       |\n",
    "| `s.pop()`                        |            | Remove and return an arbitrary element from `s`; raises `KeyError` if empty |\n",
    "| `s.clear()`                      |            | Remove all elements from set `s`                        |\n"
   ]
  },
  {
   "cell_type": "code",
   "execution_count": 19,
   "id": "1d02d9bc",
   "metadata": {},
   "outputs": [
    {
     "name": "stdout",
     "output_type": "stream",
     "text": [
      "{1, 2, 3, 4, 5, 6}\n"
     ]
    }
   ],
   "source": [
    "s.update(t) # s |= t\n",
    "print(s)"
   ]
  },
  {
   "cell_type": "code",
   "execution_count": 20,
   "id": "e425ef2a",
   "metadata": {},
   "outputs": [],
   "source": [
    "s |= t"
   ]
  },
  {
   "cell_type": "code",
   "execution_count": 21,
   "id": "adc925c6",
   "metadata": {},
   "outputs": [],
   "source": [
    "s = set([1,2,3,4])\n",
    "t= set([3,4,5,6])"
   ]
  },
  {
   "cell_type": "code",
   "execution_count": 22,
   "id": "7855861c",
   "metadata": {},
   "outputs": [],
   "source": [
    "s.difference_update(t)"
   ]
  },
  {
   "cell_type": "code",
   "execution_count": 23,
   "id": "74d831c4",
   "metadata": {},
   "outputs": [
    {
     "name": "stdout",
     "output_type": "stream",
     "text": [
      "{1, 2}\n"
     ]
    }
   ],
   "source": [
    "print(s)"
   ]
  },
  {
   "cell_type": "code",
   "execution_count": 24,
   "id": "0c8fa758",
   "metadata": {},
   "outputs": [],
   "source": [
    "s.symmetric_difference_update(t)"
   ]
  },
  {
   "cell_type": "code",
   "execution_count": 25,
   "id": "f1e4bce0",
   "metadata": {},
   "outputs": [
    {
     "name": "stdout",
     "output_type": "stream",
     "text": [
      "{1, 2, 3, 4, 5, 6}\n"
     ]
    }
   ],
   "source": [
    "print(s)"
   ]
  },
  {
   "cell_type": "code",
   "execution_count": 26,
   "id": "1154dd9b",
   "metadata": {},
   "outputs": [],
   "source": [
    "s.add(10)"
   ]
  },
  {
   "cell_type": "code",
   "execution_count": 27,
   "id": "da739395",
   "metadata": {},
   "outputs": [
    {
     "name": "stdout",
     "output_type": "stream",
     "text": [
      "{1, 2, 3, 4, 5, 6, 10}\n"
     ]
    }
   ],
   "source": [
    "print(s)"
   ]
  },
  {
   "cell_type": "code",
   "execution_count": 29,
   "id": "bcb1af30",
   "metadata": {},
   "outputs": [
    {
     "name": "stdout",
     "output_type": "stream",
     "text": [
      "{1, 2, 3, 4, 5, 6}\n"
     ]
    }
   ],
   "source": [
    "s.remove(10)\n",
    "print(s)"
   ]
  },
  {
   "cell_type": "code",
   "execution_count": 33,
   "id": "fa0f69c9",
   "metadata": {},
   "outputs": [
    {
     "name": "stdout",
     "output_type": "stream",
     "text": [
      "Error: 10\n",
      "{1, 2, 3, 4, 5, 6}\n"
     ]
    }
   ],
   "source": [
    "try:\n",
    "    s.remove(10) # raises KeyError if not present\n",
    "except KeyError as e:\n",
    "    print(f\"Error: {e}\")\n",
    "    print(s)"
   ]
  },
  {
   "cell_type": "code",
   "execution_count": 36,
   "id": "ed22ebae",
   "metadata": {},
   "outputs": [
    {
     "name": "stdout",
     "output_type": "stream",
     "text": [
      "{1, 2, 3, 4, 5, 6}\n"
     ]
    }
   ],
   "source": [
    "x=10\n",
    "s.discard(x) # removes x from set s if present; no error\n",
    "print(s)"
   ]
  },
  {
   "cell_type": "code",
   "execution_count": 38,
   "id": "4c90821b",
   "metadata": {},
   "outputs": [
    {
     "name": "stdout",
     "output_type": "stream",
     "text": [
      "2\n"
     ]
    }
   ],
   "source": [
    "print(s.pop()) # remove and return an arbitrary element from s; raises KeyError if empty"
   ]
  },
  {
   "cell_type": "code",
   "execution_count": 39,
   "id": "5471e5cb",
   "metadata": {},
   "outputs": [],
   "source": [
    "s.clear() # remove all elements from set s"
   ]
  },
  {
   "cell_type": "code",
   "execution_count": 41,
   "id": "c52632c0",
   "metadata": {},
   "outputs": [
    {
     "name": "stdout",
     "output_type": "stream",
     "text": [
      "Error: 'pop from an empty set'\n",
      "set()\n"
     ]
    }
   ],
   "source": [
    "try:\n",
    "    s.pop() # raises KeyError if empty\n",
    "except KeyError as e:\n",
    "    print(f\"Error: {e}\")\n",
    "    print(s)\n"
   ]
  }
 ],
 "metadata": {
  "kernelspec": {
   "display_name": "Python 3 (ipykernel)",
   "language": "python",
   "name": "python3"
  },
  "language_info": {
   "codemirror_mode": {
    "name": "ipython",
    "version": 3
   },
   "file_extension": ".py",
   "mimetype": "text/x-python",
   "name": "python",
   "nbconvert_exporter": "python",
   "pygments_lexer": "ipython3",
   "version": "3.11.7"
  }
 },
 "nbformat": 4,
 "nbformat_minor": 5
}
