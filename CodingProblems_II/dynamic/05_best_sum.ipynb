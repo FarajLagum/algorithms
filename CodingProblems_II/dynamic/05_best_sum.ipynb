{
 "cells": [
  {
   "cell_type": "markdown",
   "metadata": {},
   "source": [
    "# Best Sum: Dynamic Programming\n",
    "\n",
    "Write a function “`bestSum(targetSum, numbers)`” that takes in a \n",
    "`targetSum` and an array of numbers as arguments. \n",
    "The function should return an array containing the **shortest** \n",
    "combination of numbers that add up to exactly the targetSum.\n",
    "If there is a tie for the shortest combination, you may return any \n",
    "one of the shortest. \n"
   ]
  },
  {
   "cell_type": "code",
   "execution_count": 57,
   "metadata": {},
   "outputs": [],
   "source": [
    "# m: target sum\n",
    "# n: length of the array\n",
    "# Brute force\n",
    "# time: O(n^m * m)\n",
    "# space: O(m^2)\n"
   ]
  },
  {
   "cell_type": "code",
   "execution_count": 58,
   "metadata": {},
   "outputs": [
    {
     "name": "stdout",
     "output_type": "stream",
     "text": [
      "[7]\n",
      "[5, 3]\n",
      "[4, 4]\n",
      "[25, 25, 25, 25]\n",
      "[4, 4]\n"
     ]
    }
   ],
   "source": [
    "# m: target sum\n",
    "# n: length of the array\n",
    "# Brute force\n",
    "# time: O(n*m^2m)\n",
    "# space: O(m^2)\n",
    "\n",
    "def bestSum(targetSum, numbers, memo=None):\n",
    "    if memo is None:\n",
    "        memo = {}\n",
    "\n",
    "    if targetSum in memo:\n",
    "        return memo[targetSum]\n",
    "    \n",
    "    if targetSum == 0:\n",
    "        return []\n",
    "\n",
    "    if targetSum < 0:\n",
    "        return None\n",
    "\n",
    "    shortestCombination = None\n",
    "\n",
    "    for num in numbers:\n",
    "        remainder = targetSum - num\n",
    "        remainderCombination = bestSum(remainder, numbers, memo)\n",
    "        if remainderCombination is not None:\n",
    "            combination = remainderCombination + [num]\n",
    "            if shortestCombination is None or len(combination) < len(shortestCombination):\n",
    "                shortestCombination = combination\n",
    "\n",
    "    memo[targetSum] = shortestCombination\n",
    "    return shortestCombination\n",
    "\n",
    "# Example usage:\n",
    "print(bestSum(7, [5, 3, 4, 7]))  # Output: [7]\n",
    "print(bestSum(8, [2, 3, 5]))      # Output: [3, 5]\n",
    "print(bestSum(8, [1, 4, 5]))      # Output: [4, 4]\n",
    "print(bestSum(100, [1, 2, 5, 25])) # Output: [25, 25, 25, 25]\n",
    "print(bestSum(8, [1, 2, 5, 4,4])) # Output: \n",
    "\n",
    "\n"
   ]
  },
  {
   "cell_type": "code",
   "execution_count": 56,
   "metadata": {},
   "outputs": [
    {
     "name": "stdout",
     "output_type": "stream",
     "text": [
      "[7]\n",
      "[5, 3]\n",
      "None\n",
      "None\n",
      "[4, 4]\n"
     ]
    }
   ],
   "source": [
    "def bestSum(targetSum, numbers, memo=None):\n",
    "    if memo is None:\n",
    "        memo = {}\n",
    "\n",
    "    if targetSum in memo:\n",
    "        return memo[targetSum]\n",
    "    \n",
    "    if targetSum == 0:\n",
    "        return []\n",
    "\n",
    "    if targetSum < 0:\n",
    "        return None\n",
    "\n",
    "    shortestCombination = None\n",
    "\n",
    "    for i, num in enumerate(numbers):\n",
    "        remainder = targetSum - num\n",
    "        remainderCombination = bestSum(remainder, numbers[:i]+ numbers[i+1:], memo)\n",
    "        if remainderCombination is not None:\n",
    "            combination = remainderCombination + [num]\n",
    "            if shortestCombination is None or len(combination) < len(shortestCombination):\n",
    "                shortestCombination = combination\n",
    "\n",
    "    memo[targetSum] = shortestCombination\n",
    "    return shortestCombination\n",
    "\n",
    "# Example usage:\n",
    "print(bestSum(7, [5, 3, 4, 7]))  # Output: [7]\n",
    "print(bestSum(8, [2, 3, 5]))      # Output: [3, 5]\n",
    "print(bestSum(8, [1, 4, 5]))      # Output: None\n",
    "print(bestSum(100, [1, 2, 5, 25])) # Output: None\n",
    "print(bestSum(8, [1, 2, 5, 4,4])) # Output: \n",
    "\n",
    "\n"
   ]
  },
  {
   "cell_type": "markdown",
   "metadata": {},
   "source": [
    "# Tabulation "
   ]
  },
  {
   "cell_type": "code",
   "execution_count": 2,
   "metadata": {},
   "outputs": [
    {
     "name": "stdout",
     "output_type": "stream",
     "text": [
      "[7]\n",
      "[3, 5]\n",
      "[4, 4]\n",
      "[25, 25, 25, 25]\n"
     ]
    }
   ],
   "source": [
    "def best_sum(target_sum, numbers):\n",
    "    table = [None] * (target_sum + 1)\n",
    "    table[0] = []\n",
    "    for i in range(target_sum + 1):\n",
    "        if table[i] is not None:\n",
    "            for num in numbers:\n",
    "                combination = table[i] + [num]\n",
    "                if i + num <= target_sum:\n",
    "                    if table[i + num] is None or len(combination) < len(table[i + num]):\n",
    "                        table[i + num] = combination\n",
    "    return table[target_sum]\n",
    "\n",
    "print(best_sum(7, [5, 3, 4, 7]))  # [7]\n",
    "print(best_sum(8, [2, 3, 5]))  # [3, 5]\n",
    "print(best_sum(8, [1, 4, 5]))  # [4, 4]\n",
    "print(best_sum(100, [1, 2, 5, 25]))  # [25, 25, 25, 25]\n"
   ]
  }
 ],
 "metadata": {
  "kernelspec": {
   "display_name": "Python 3",
   "language": "python",
   "name": "python3"
  },
  "language_info": {
   "codemirror_mode": {
    "name": "ipython",
    "version": 3
   },
   "file_extension": ".py",
   "mimetype": "text/x-python",
   "name": "python",
   "nbconvert_exporter": "python",
   "pygments_lexer": "ipython3",
   "version": "3.11.7"
  }
 },
 "nbformat": 4,
 "nbformat_minor": 2
}
