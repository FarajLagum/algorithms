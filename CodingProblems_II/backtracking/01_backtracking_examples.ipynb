{
 "cells": [
  {
   "cell_type": "markdown",
   "id": "41bb0ca0",
   "metadata": {},
   "source": [
    "# Template"
   ]
  },
  {
   "cell_type": "code",
   "execution_count": 2,
   "id": "a21f0a9e",
   "metadata": {},
   "outputs": [],
   "source": [
    "def is_valid_state(state): # or a solution \n",
    "    # check if it is a valid solution\n",
    "    return True\n",
    "\n",
    "def get_candidates(state):\n",
    "    return []\n",
    "\n",
    "def search(state, solutions):\n",
    "    if is_valid_state(state):\n",
    "        solutions.append(state.copy())\n",
    "        # return\n",
    "\n",
    "    for candidate in get_candidates(state):\n",
    "        state.add(candidate)        # Take/Choose -> .add() or .append() etc. \n",
    "        search(state, solutions)    # Search/Explore or backtrack/dfs\n",
    "        state.remove(candidate)     # Untake/Unchoose  -> .remove or .pop()\n",
    "\n",
    "def solve():\n",
    "    solutions = []\n",
    "    state = set()  # or list\n",
    "    search(state, solutions)\n",
    "    return solutions"
   ]
  },
  {
   "cell_type": "markdown",
   "id": "72e59cdd",
   "metadata": {},
   "source": [
    "# Combinations"
   ]
  },
  {
   "cell_type": "code",
   "execution_count": 9,
   "id": "4da00276",
   "metadata": {},
   "outputs": [
    {
     "name": "stdout",
     "output_type": "stream",
     "text": [
      "[[1, 2], [1, 3], [1, 4], [2, 3], [2, 4], [3, 4]]\n",
      "[[1, 2, 3], [1, 2, 4], [1, 2, 5], [1, 3, 4], [1, 3, 5], [1, 4, 5], [2, 3, 4], [2, 3, 5], [2, 4, 5], [3, 4, 5]]\n"
     ]
    }
   ],
   "source": [
    "def search(nums, k, index, path, result):\n",
    "    #if k < 0:  #backtracking\n",
    "        #return \n",
    "    if k == 0:\n",
    "        result.append(path.copy())\n",
    "        return # backtracking \n",
    "    for i in range(index, len(nums)):\n",
    "        search(nums, k-1, i+1, path+[nums[i]], result)\n",
    "\n",
    "\n",
    "def combine(n, k):\n",
    "    result = []\n",
    "    search(range(1,n+1), k, 0, [], result)\n",
    "    return result\n",
    "\n",
    "# Example 1\n",
    "n = 4\n",
    "k = 2\n",
    "result = combine(n, k)\n",
    "print(result)\n",
    "# Output: [[1, 2], [1, 3], [1, 4], [2, 3], [2, 4], [3, 4]]\n",
    "\n",
    "# Example 2\n",
    "n = 5\n",
    "k = 3\n",
    "result = combine(n, k)\n",
    "print(result)\n",
    "# Output: [[1, 2, 3], [1, 2, 4], [1, 2, 5], [1, 3, 4], [1, 3, 5], [1, 4, 5], [2, 3, 4], [2, 3, 5], [2, 4, 5], [3, 4, 5]]\n"
   ]
  },
  {
   "cell_type": "markdown",
   "id": "1b585571",
   "metadata": {},
   "source": [
    "# Permutations I\n"
   ]
  },
  {
   "cell_type": "code",
   "execution_count": 2,
   "id": "21d2de22",
   "metadata": {},
   "outputs": [],
   "source": [
    "class Solution:\n",
    "    def permute(self, nums: list[int]) -> list[list[int]]:\n",
    "        res = []\n",
    "        self.dfs(nums, [], res)\n",
    "        return res\n",
    "\n",
    "    def dfs(self, nums, path, res):\n",
    "        if not nums:\n",
    "            res.append(path)\n",
    "            #return # backtracking\n",
    "        for i in range(len(nums)):\n",
    "            self.dfs(nums[:i]+nums[i+1:], path+[nums[i]], res)"
   ]
  },
  {
   "cell_type": "markdown",
   "id": "85d9cdc5",
   "metadata": {},
   "source": [
    "# Permutations II"
   ]
  },
  {
   "cell_type": "code",
   "execution_count": 3,
   "id": "b4a24e56",
   "metadata": {},
   "outputs": [],
   "source": [
    "def permuteUnique(self, nums):\n",
    "    res, visited = [], [False]*len(nums)\n",
    "    nums.sort()\n",
    "    self.dfs(nums, visited, [], res)\n",
    "    return res\n",
    "    \n",
    "def dfs(self, nums, visited, path, res):\n",
    "    if len(nums) == len(path):\n",
    "        res.append(path)\n",
    "        return \n",
    "    for i in range(len(nums)):\n",
    "        if not visited[i]: \n",
    "            if i>0 and not visited[i-1] and nums[i] == nums[i-1]:  # here should pay attention\n",
    "                continue\n",
    "            visited[i] = True\n",
    "            self.dfs(nums, visited, path+[nums[i]], res)\n",
    "            visited[i] = False"
   ]
  },
  {
   "cell_type": "markdown",
   "id": "628bd6c8",
   "metadata": {},
   "source": [
    "# Subsets I"
   ]
  },
  {
   "cell_type": "code",
   "execution_count": null,
   "id": "cf650e31",
   "metadata": {},
   "outputs": [],
   "source": [
    "def subsets1(self, nums):\n",
    "    res = []\n",
    "    self.dfs(sorted(nums), 0, [], res)\n",
    "    return res\n",
    "    \n",
    "def dfs(self, nums, index, path, res):\n",
    "    res.append(path)\n",
    "    for i in range(index, len(nums)):\n",
    "        self.dfs(nums, i+1, path+[nums[i]], res)"
   ]
  },
  {
   "cell_type": "markdown",
   "id": "f12a680e",
   "metadata": {},
   "source": [
    "# Subset II"
   ]
  },
  {
   "cell_type": "code",
   "execution_count": 4,
   "id": "ae1cec23",
   "metadata": {},
   "outputs": [],
   "source": [
    "def subsetsWithDup(self, nums):\n",
    "    res = []\n",
    "    nums.sort()\n",
    "    self.dfs(nums, 0, [], res)\n",
    "    return res\n",
    "    \n",
    "def dfs(self, nums, index, path, res):\n",
    "    res.append(path)\n",
    "    for i in range(index, len(nums)):\n",
    "        if i > index and nums[i] == nums[i-1]:\n",
    "            continue\n",
    "        self.dfs(nums, i+1, path+[nums[i]], res)"
   ]
  },
  {
   "cell_type": "markdown",
   "id": "0be473b0",
   "metadata": {},
   "source": [
    "# Combination Sum"
   ]
  },
  {
   "cell_type": "code",
   "execution_count": null,
   "id": "38ca1917",
   "metadata": {},
   "outputs": [],
   "source": [
    "def combinationSum(self, candidates, target):\n",
    "    res = []\n",
    "    candidates.sort()\n",
    "    self.dfs(candidates, target, 0, [], res)\n",
    "    return res\n",
    "    \n",
    "def dfs(self, nums, target, index, path, res):\n",
    "    if target < 0:\n",
    "        return  # backtracking\n",
    "    if target == 0:\n",
    "        res.append(path)\n",
    "        return \n",
    "    for i in range(index, len(nums)):\n",
    "        self.dfs(nums, target-nums[i], i, path+[nums[i]], res)"
   ]
  },
  {
   "cell_type": "markdown",
   "id": "0a67625a",
   "metadata": {},
   "source": [
    "# Combination Sum II"
   ]
  },
  {
   "cell_type": "code",
   "execution_count": 5,
   "id": "a0568417",
   "metadata": {},
   "outputs": [],
   "source": [
    "def combinationSum2(self, candidates, target):\n",
    "    res = []\n",
    "    candidates.sort()\n",
    "    self.dfs(candidates, target, 0, [], res)\n",
    "    return res\n",
    "    \n",
    "def dfs(self, candidates, target, index, path, res):\n",
    "    if target < 0:\n",
    "        return  # backtracking\n",
    "    if target == 0:\n",
    "        res.append(path)\n",
    "        return  # backtracking \n",
    "    for i in range(index, len(candidates)):\n",
    "        if i > index and candidates[i] == candidates[i-1]:\n",
    "            continue\n",
    "        self.dfs(candidates, target-candidates[i], i+1, path+[candidates[i]], res)"
   ]
  }
 ],
 "metadata": {
  "kernelspec": {
   "display_name": "Python 3 (ipykernel)",
   "language": "python",
   "name": "python3"
  },
  "language_info": {
   "codemirror_mode": {
    "name": "ipython",
    "version": 3
   },
   "file_extension": ".py",
   "mimetype": "text/x-python",
   "name": "python",
   "nbconvert_exporter": "python",
   "pygments_lexer": "ipython3",
   "version": "3.11.7"
  }
 },
 "nbformat": 4,
 "nbformat_minor": 5
}
