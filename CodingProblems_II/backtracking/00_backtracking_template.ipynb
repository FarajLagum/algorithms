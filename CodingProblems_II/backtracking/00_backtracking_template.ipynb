{
 "cells": [
  {
   "cell_type": "markdown",
   "id": "41bb0ca0",
   "metadata": {},
   "source": [
    "# Template"
   ]
  },
  {
   "cell_type": "code",
   "execution_count": 1,
   "id": "a21f0a9e",
   "metadata": {},
   "outputs": [],
   "source": [
    "def is_valid_state(state): # or a solution \n",
    "    # check if it is a valid solution\n",
    "    return True\n",
    "\n",
    "def get_candidates(state):\n",
    "    return []\n",
    "\n",
    "def search(state, solutions):\n",
    "    if is_valid_state(state):\n",
    "        solutions.append(state.copy())\n",
    "        # return\n",
    "\n",
    "    for candidate in get_candidates(state):\n",
    "        state.add(candidate)        # Take/Choose -> .add() or .append() etc. \n",
    "        search(state, solutions)    # Search/Explore or backtrack/dfs\n",
    "        state.remove(candidate)     # Untake/Unchoose  -> .remove or .pop()\n",
    "\n",
    "def solve():\n",
    "    solutions = []\n",
    "    state = set()  # or list\n",
    "    search(state, solutions)\n",
    "    return solutions"
   ]
  },
  {
   "cell_type": "markdown",
   "id": "c0cbc0d9",
   "metadata": {},
   "source": [
    "``` def backtracking(node, state):\n",
    "    if state is asolution:\n",
    "        res.append(state)\n",
    "        return\n",
    "    \n",
    "\n",
    "    for i in range():\n",
    "        if i is one solution:\n",
    "            state.append(i)\n",
    "            backtracking(i+1, state)\n",
    "            state.remove(i)\n",
    "```"
   ]
  },
  {
   "cell_type": "markdown",
   "id": "bc906a02",
   "metadata": {},
   "source": [
    "```\n",
    "def solve_backtrack():\n",
    "    if is_solved(): // base case: solution has been found\n",
    "        return True\n",
    "\n",
    "    for candidate in candidates:\n",
    "        if not is_feasible(candidate): // if candidate is not a valid choice\n",
    "            continue\n",
    "\n",
    "        accept(candidate) // use candidate for the current instance\n",
    "        if solve_backtrack(): // recursive call\n",
    "            return True // if problem solved, return True\n",
    "        reject(candidate) // problem not solved, remove candidate used and continue in loop\n",
    "\n",
    "    return False // solution does not exist\n",
    "```"
   ]
  },
  {
   "cell_type": "markdown",
   "id": "7b2b03a2",
   "metadata": {},
   "source": []
  },
  {
   "cell_type": "code",
   "execution_count": null,
   "id": "53ad5997",
   "metadata": {},
   "outputs": [],
   "source": []
  },
  {
   "cell_type": "code",
   "execution_count": null,
   "id": "7d4c2db6",
   "metadata": {},
   "outputs": [],
   "source": []
  },
  {
   "cell_type": "code",
   "execution_count": null,
   "id": "9fb9eedf",
   "metadata": {},
   "outputs": [],
   "source": []
  },
  {
   "cell_type": "code",
   "execution_count": null,
   "id": "7ac755c3",
   "metadata": {},
   "outputs": [],
   "source": []
  },
  {
   "cell_type": "code",
   "execution_count": null,
   "id": "22b9fc64",
   "metadata": {},
   "outputs": [],
   "source": []
  }
 ],
 "metadata": {
  "kernelspec": {
   "display_name": "Python 3 (ipykernel)",
   "language": "python",
   "name": "python3"
  },
  "language_info": {
   "codemirror_mode": {
    "name": "ipython",
    "version": 3
   },
   "file_extension": ".py",
   "mimetype": "text/x-python",
   "name": "python",
   "nbconvert_exporter": "python",
   "pygments_lexer": "ipython3",
   "version": "3.11.7"
  }
 },
 "nbformat": 4,
 "nbformat_minor": 5
}
