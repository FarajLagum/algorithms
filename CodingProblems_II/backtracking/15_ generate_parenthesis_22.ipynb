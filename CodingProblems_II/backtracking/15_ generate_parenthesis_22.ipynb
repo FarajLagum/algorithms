{
 "cells": [
  {
   "cell_type": "code",
   "execution_count": 1,
   "metadata": {},
   "outputs": [
    {
     "name": "stdout",
     "output_type": "stream",
     "text": [
      "['((()))', '(()())', '(())()', '()(())', '()()()']\n",
      "['()']\n"
     ]
    }
   ],
   "source": [
    "def generateParenthesis(n):\n",
    "    def generate(state, left, right, parens=[]):\n",
    "        if left: \n",
    "            generate(state + '(', left-1, right)\n",
    "        if right > left: \n",
    "            generate(state + ')', left, right-1)\n",
    "        if not right: \n",
    "            parens += state,\n",
    "        return parens\n",
    "    return generate('', n, n)\n",
    "\n",
    "\n",
    "\n",
    "print(generateParenthesis(3))\n",
    "print(generateParenthesis(1))\n"
   ]
  },
  {
   "cell_type": "markdown",
   "metadata": {},
   "source": [
    "# Refactored to follow template\n",
    "\n",
    "Refactored to follow backtracking template and extended it to makre it more verbose"
   ]
  },
  {
   "cell_type": "code",
   "execution_count": 2,
   "metadata": {},
   "outputs": [
    {
     "name": "stdout",
     "output_type": "stream",
     "text": [
      "['((()))', '(()())', '(())()', '()(())', '()()()']\n",
      "['()']\n"
     ]
    }
   ],
   "source": [
    "# Verbose\n",
    "def search(open_count, close_count, state, result):\n",
    "    # If we've used all open and close parentheses, the path is a valid combination.\n",
    "    if open_count == 0 and close_count == 0:\n",
    "        result.append(state)\n",
    "        return\n",
    "    # If we have any open parentheses left (If we have not used all open parentheses), \n",
    "    # we can add an open parenthesis.\n",
    "    if open_count > 0:  \n",
    "        state = state + '(' # Mark\n",
    "        open_count -=1 # decrement \n",
    "        search(open_count, close_count, state, result)\n",
    "        open_count +=1 # increment -- backtrack\n",
    "        state = state[:-1]  # Unmark -- Remove the last character\n",
    "\n",
    "    # If we have more close parentheses left than open parentheses, we can add a close parenthesis.\n",
    "    if close_count > open_count:\n",
    "        state = state + ')' # Mark\n",
    "        close_count -=1 # decrement \n",
    "        search(open_count, close_count, state, result)\n",
    "        close_count +=1 # increment -- backtrack\n",
    "        state = state[:-1]  # Unmark -- Remove the last character\n",
    "\n",
    "def generateParenthesis(n_pairs):\n",
    "    result = []\n",
    "    state = ''\n",
    "    open_count, close_count = n_pairs, n_pairs \n",
    "    # We start the search with n open and close parentheses, and an empty path and result.\n",
    "    search(open_count, close_count, state, result)\n",
    "    # We return the result, which contains all combinations of well-formed parentheses.\n",
    "    return result\n",
    "\n",
    "# We test the generateParenthesis function with some inputs.\n",
    "print(generateParenthesis(3))  # Expected output: [\"((()))\",\"(()())\",\"(())()\",\"()(())\",\"()()()\"]\n",
    "print(generateParenthesis(1))  # Expected output: [\"()\"]"
   ]
  },
  {
   "cell_type": "code",
   "execution_count": 18,
   "metadata": {},
   "outputs": [
    {
     "name": "stdout",
     "output_type": "stream",
     "text": [
      "['((()))', '(()())', '(())()', '()(())', '()()()']\n",
      "['()']\n"
     ]
    }
   ],
   "source": [
    "# Not-verbose\n",
    "def search(open_count, close_count, path, result):\n",
    "    # If we've used all open and close parentheses, the path is a valid combination.\n",
    "    if open_count == 0 and close_count == 0:\n",
    "        result.append(path)\n",
    "        return\n",
    "    # If we have any open parentheses left, we can add an open parenthesis.\n",
    "    if open_count > 0:\n",
    "        search(open_count - 1, close_count, path + '(', result)\n",
    "    # If we have more close parentheses left than open parentheses, we can add a close parenthesis.\n",
    "    if close_count > open_count:\n",
    "        search(open_count, close_count - 1, path + ')', result)\n",
    "\n",
    "def generateParenthesis(n):\n",
    "    result = []\n",
    "    path = ''\n",
    "    # We start the search with n open and close parentheses, and an empty path and result.\n",
    "    search(n, n, path, result)\n",
    "    # We return the result, which contains all combinations of well-formed parentheses.\n",
    "    return result\n",
    "\n",
    "# We test the generateParenthesis function with some inputs.\n",
    "print(generateParenthesis(3))  # Expected output: [\"((()))\",\"(()())\",\"(())()\",\"()(())\",\"()()()\"]\n",
    "print(generateParenthesis(1))  # Expected output: [\"()\"]\n"
   ]
  }
 ],
 "metadata": {
  "kernelspec": {
   "display_name": "Python 3",
   "language": "python",
   "name": "python3"
  },
  "language_info": {
   "codemirror_mode": {
    "name": "ipython",
    "version": 3
   },
   "file_extension": ".py",
   "mimetype": "text/x-python",
   "name": "python",
   "nbconvert_exporter": "python",
   "pygments_lexer": "ipython3",
   "version": "3.11.7"
  }
 },
 "nbformat": 4,
 "nbformat_minor": 2
}
