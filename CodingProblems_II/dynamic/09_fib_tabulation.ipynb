{
 "cells": [
  {
   "cell_type": "markdown",
   "metadata": {},
   "source": [
    "# fib Tabulation\n",
    "Iterative approach by building a table\n"
   ]
  },
  {
   "cell_type": "code",
   "execution_count": 1,
   "metadata": {},
   "outputs": [
    {
     "name": "stdout",
     "output_type": "stream",
     "text": [
      "[0, 1, 1, 2, 3, 5, 8, 13, 21, 34, 55]\n"
     ]
    }
   ],
   "source": [
    "def fibonacci_tabulation(n):\n",
    "\n",
    "  fib_table = [0, 1]  # Base cases: F0 = 0, F1 = 1\n",
    "  for i in range(2, n + 1):\n",
    "    fib_table.append(fib_table[i - 1] + fib_table[i - 2])  # Bottom-up calculation\n",
    "  return fib_table\n",
    "\n",
    "# Example usage\n",
    "n = 10\n",
    "fib_sequence = fibonacci_tabulation(n)\n",
    "print(fib_sequence)  # Output: [0, 1, 1, 2, 3, 5, 8, 13, 21, 34]\n"
   ]
  }
 ],
 "metadata": {
  "kernelspec": {
   "display_name": "Python 3",
   "language": "python",
   "name": "python3"
  },
  "language_info": {
   "codemirror_mode": {
    "name": "ipython",
    "version": 3
   },
   "file_extension": ".py",
   "mimetype": "text/x-python",
   "name": "python",
   "nbconvert_exporter": "python",
   "pygments_lexer": "ipython3",
   "version": "3.11.7"
  }
 },
 "nbformat": 4,
 "nbformat_minor": 2
}
