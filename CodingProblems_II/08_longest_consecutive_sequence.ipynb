{
 "cells": [
  {
   "cell_type": "code",
   "execution_count": 5,
   "id": "5600228b-9785-4f36-a77f-1530ae570ba5",
   "metadata": {},
   "outputs": [
    {
     "name": "stdout",
     "output_type": "stream",
     "text": [
      "9\n"
     ]
    }
   ],
   "source": [
    "def longest_consecutive_seq(nums):\n",
    "    max_length = 0\n",
    "    numbers = set(nums)\n",
    "\n",
    "    for current_num in numbers:\n",
    "        # If the number is the first element of a sequence\n",
    "        if (current_num - 1) not in numbers:\n",
    "            curr_seq_length = 1\n",
    "            # While the consecutive number is in the set\n",
    "            while (current_num + curr_seq_length) in numbers:\n",
    "                curr_seq_length += 1\n",
    "            max_length = max(max_length, curr_seq_length)\n",
    "    \n",
    "    return max_length\n",
    "\n",
    "\n",
    "nums = [0,3,7,2,5,8,4,6,0,1]\n",
    "longest = longest_consecutive_seq(nums)\n",
    "print(longest)"
   ]
  },
  {
   "cell_type": "code",
   "execution_count": null,
   "id": "656689b9",
   "metadata": {},
   "outputs": [],
   "source": []
  },
  {
   "cell_type": "code",
   "execution_count": 1,
   "id": "60608dc1",
   "metadata": {},
   "outputs": [],
   "source": [
    "# Define a function to find the longest consecutive sequence\n",
    "def longest_consecutive(nums):\n",
    "    # Convert the array to a set for O(1) lookup\n",
    "    num_set = set(nums)\n",
    "    # Initialize the maximum length to zero\n",
    "    max_len = 0\n",
    "    # Loop through the set\n",
    "    for num in num_set:\n",
    "        # If the number is the first element of a sequence\n",
    "        if num - 1 not in num_set:\n",
    "            # Initialize the current number and length\n",
    "            curr_num = num\n",
    "            curr_len = 1\n",
    "            # While the next number is in the set\n",
    "            while curr_num + 1 in num_set:\n",
    "                # Increment the current number and length\n",
    "                curr_num += 1\n",
    "                curr_len += 1\n",
    "            # Update the maximum length if needed\n",
    "            max_len = max(max_len, curr_len)\n",
    "    # Return the maximum length\n",
    "    return max_len\n"
   ]
  }
 ],
 "metadata": {
  "kernelspec": {
   "display_name": "Python 3 (ipykernel)",
   "language": "python",
   "name": "python3"
  },
  "language_info": {
   "codemirror_mode": {
    "name": "ipython",
    "version": 3
   },
   "file_extension": ".py",
   "mimetype": "text/x-python",
   "name": "python",
   "nbconvert_exporter": "python",
   "pygments_lexer": "ipython3",
   "version": "3.11.7"
  }
 },
 "nbformat": 4,
 "nbformat_minor": 5
}
