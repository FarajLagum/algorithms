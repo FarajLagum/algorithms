{
 "cells": [
  {
   "cell_type": "markdown",
   "id": "02c07dbe",
   "metadata": {},
   "source": [
    "# Subsets II"
   ]
  },
  {
   "cell_type": "code",
   "execution_count": 15,
   "id": "e5cc63b4",
   "metadata": {},
   "outputs": [
    {
     "name": "stdout",
     "output_type": "stream",
     "text": [
      "[[], [1], [1, 2], [1, 2, 2], [2], [2, 2]]\n"
     ]
    }
   ],
   "source": [
    "def subsets(nums):\n",
    "    nums.sort()\n",
    "    res = []\n",
    "    backtrack(nums, [], res, 0)\n",
    "    return res\n",
    "\n",
    "def backtrack(nums, subset, result, start_index):\n",
    "    result.append(subset.copy())\n",
    "    for candidate_index in range(start_index, len(nums)):\n",
    "        if candidate_index > start_index and nums[candidate_index] == nums[candidate_index-1]:\n",
    "            return # continue # we can use continue as well \n",
    "        subset.append(nums[candidate_index])\n",
    "        backtrack(nums, subset, result, candidate_index+1)\n",
    "        subset.pop()\n",
    "\n",
    "nums = [1, 2, 2]\n",
    "print(subsets(nums))\n",
    "\n",
    "# lst =[1, 2,3]\n",
    "# test = lst[:]\n",
    "\n",
    "# lst.append(4)\n",
    "# print(test)\n"
   ]
  },
  {
   "cell_type": "markdown",
   "id": "7c848198",
   "metadata": {},
   "source": [
    "# Subsets I"
   ]
  },
  {
   "cell_type": "code",
   "execution_count": 19,
   "id": "57c05d26",
   "metadata": {},
   "outputs": [
    {
     "name": "stdout",
     "output_type": "stream",
     "text": [
      "[[], [5], [5, 4], [5, 4, 3], [5, 3], [4], [4, 3], [3]]\n"
     ]
    }
   ],
   "source": [
    "def subsets(nums):\n",
    "    #nums.sort()\n",
    "    result = []\n",
    "    backtrack(nums, [], result, 0)\n",
    "    return result\n",
    "\n",
    "def backtrack(nums, subset, result, start_index):\n",
    "    result.append(subset.copy())\n",
    "    for candidate_index in range(start_index, len(nums)):\n",
    "        subset.append(nums[candidate_index])\n",
    "        backtrack(nums, subset, result, candidate_index+1)\n",
    "        subset.pop()\n",
    "\n",
    "nums = [5, 4, 3]\n",
    "print(subsets(nums))"
   ]
  }
 ],
 "metadata": {
  "kernelspec": {
   "display_name": "Python 3 (ipykernel)",
   "language": "python",
   "name": "python3"
  },
  "language_info": {
   "codemirror_mode": {
    "name": "ipython",
    "version": 3
   },
   "file_extension": ".py",
   "mimetype": "text/x-python",
   "name": "python",
   "nbconvert_exporter": "python",
   "pygments_lexer": "ipython3",
   "version": "3.11.7"
  }
 },
 "nbformat": 4,
 "nbformat_minor": 5
}
