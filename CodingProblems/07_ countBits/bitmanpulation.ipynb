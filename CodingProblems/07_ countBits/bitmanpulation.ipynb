{
 "cells": [
  {
   "cell_type": "code",
   "execution_count": 3,
   "metadata": {},
   "outputs": [
    {
     "name": "stdout",
     "output_type": "stream",
     "text": [
      "0b101\n",
      "0b11\n",
      "0b1\n"
     ]
    }
   ],
   "source": [
    "a = 5    # 0b101\n",
    "b = 3    # 0b011\n",
    "\n",
    "result = a & b\n",
    "print(bin(a))\n",
    "print(bin(b))\n",
    "print(bin(result))  # Output: 0b1\n"
   ]
  },
  {
   "cell_type": "code",
   "execution_count": 4,
   "metadata": {},
   "outputs": [
    {
     "name": "stdout",
     "output_type": "stream",
     "text": [
      "0b111\n"
     ]
    }
   ],
   "source": [
    "a = 5    # 0b101\n",
    "b = 3    # 0b011\n",
    "\n",
    "result = a | b\n",
    "print(bin(result))  # Output: 0b111\n"
   ]
  },
  {
   "cell_type": "markdown",
   "metadata": {},
   "source": [
    "# XOR"
   ]
  },
  {
   "cell_type": "code",
   "execution_count": 7,
   "metadata": {},
   "outputs": [
    {
     "name": "stdout",
     "output_type": "stream",
     "text": [
      "0b101\n",
      "0b11\n",
      "0b110\n"
     ]
    }
   ],
   "source": [
    "a = 5    # 0b101\n",
    "b = 3    # 0b011\n",
    "\n",
    "result = a ^ b\n",
    "print(bin(a))\n",
    "print(bin(b))\n",
    "print(bin(result))  # Output: 0b110\n"
   ]
  },
  {
   "cell_type": "markdown",
   "metadata": {},
   "source": [
    "# bitwise not (~)"
   ]
  },
  {
   "cell_type": "code",
   "execution_count": 10,
   "metadata": {},
   "outputs": [
    {
     "name": "stdout",
     "output_type": "stream",
     "text": [
      "0b101\n",
      "-0b110\n"
     ]
    }
   ],
   "source": [
    "a = 5    # 0b101\n",
    "\n",
    "result = ~a\n",
    "print(bin(a))\n",
    "print(bin(result))  # Output: -0b110\n"
   ]
  },
  {
   "cell_type": "code",
   "execution_count": 14,
   "metadata": {},
   "outputs": [
    {
     "name": "stdout",
     "output_type": "stream",
     "text": [
      "10\n",
      "0b1010\n"
     ]
    }
   ],
   "source": [
    "# Left Shift (<<)\n",
    "a = 5    # 0b101\n",
    "\n",
    "result = a << 1\n",
    "print(result)\n",
    "print(bin(result))  # Output: 0b1010\n"
   ]
  },
  {
   "cell_type": "code",
   "execution_count": 13,
   "metadata": {},
   "outputs": [
    {
     "name": "stdout",
     "output_type": "stream",
     "text": [
      "2\n",
      "0b10\n"
     ]
    }
   ],
   "source": [
    "# Right Shift (>>)\n",
    "a = 5    # 0b101\n",
    "\n",
    "result = a >> 1\n",
    "print(result)\n",
    "print(bin(result))  # Output: 0b10\n"
   ]
  },
  {
   "cell_type": "code",
   "execution_count": 15,
   "metadata": {},
   "outputs": [
    {
     "name": "stdout",
     "output_type": "stream",
     "text": [
      "0b111\n"
     ]
    }
   ],
   "source": [
    "# Setting a Bit\n",
    "def set_bit(number, position):\n",
    "    return number | (1 << position)\n",
    "\n",
    "num = 5    # 0b101\n",
    "position = 1\n",
    "\n",
    "result = set_bit(num, position)\n",
    "print(bin(result))  # Output: 0b111\n"
   ]
  },
  {
   "cell_type": "code",
   "execution_count": 16,
   "metadata": {},
   "outputs": [
    {
     "name": "stdout",
     "output_type": "stream",
     "text": [
      "0b100\n"
     ]
    }
   ],
   "source": [
    "# Clearing a Bit\n",
    "def clear_bit(number, position):\n",
    "    return number & ~(1 << position)\n",
    "\n",
    "num = 5    # 0b101\n",
    "position = 0\n",
    "\n",
    "result = clear_bit(num, position)\n",
    "print(bin(result))  # Output: 0b100\n"
   ]
  },
  {
   "cell_type": "code",
   "execution_count": 17,
   "metadata": {},
   "outputs": [
    {
     "name": "stdout",
     "output_type": "stream",
     "text": [
      "False\n"
     ]
    }
   ],
   "source": [
    "# Checking if a Bit is Set\n",
    "def is_bit_set(number, position):\n",
    "    return (number & (1 << position)) != 0\n",
    "\n",
    "num = 5    # 0b101\n",
    "position = 1\n",
    "\n",
    "print(is_bit_set(num, position))  # Output: True\n"
   ]
  },
  {
   "cell_type": "code",
   "execution_count": 21,
   "metadata": {},
   "outputs": [
    {
     "name": "stdout",
     "output_type": "stream",
     "text": [
      "<class 'str'>\n",
      "[1, 0, 1, 0, 1, 0]\n"
     ]
    }
   ],
   "source": [
    "# Get the binary representation of a as a string\n",
    "a = 42\n",
    "print(type(bin(a)))\n",
    "binary_string = bin(a)[2:]  # Remove the '0b' prefix\n",
    "\n",
    "# Convert the binary string to a list of binary digits\n",
    "binary_list = [int(bit) for bit in binary_string]\n",
    "\n",
    "print(binary_list)\n"
   ]
  }
 ],
 "metadata": {
  "kernelspec": {
   "display_name": "Python 3",
   "language": "python",
   "name": "python3"
  },
  "language_info": {
   "codemirror_mode": {
    "name": "ipython",
    "version": 3
   },
   "file_extension": ".py",
   "mimetype": "text/x-python",
   "name": "python",
   "nbconvert_exporter": "python",
   "pygments_lexer": "ipython3",
   "version": "3.11.4"
  }
 },
 "nbformat": 4,
 "nbformat_minor": 2
}
