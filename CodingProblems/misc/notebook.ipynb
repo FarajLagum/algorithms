{
 "cells": [
  {
   "cell_type": "code",
   "execution_count": 6,
   "metadata": {},
   "outputs": [
    {
     "name": "stdout",
     "output_type": "stream",
     "text": [
      "-4\n",
      "[4, 1, 5, 10, 8, 7, 6]\n"
     ]
    }
   ],
   "source": [
    "# The time complexity of the given solution using NumPy is O(n)\n",
    "import numpy as np\n",
    "array = [-1, -4, 0, 5, 3, 2, 1]\n",
    "print(min(array))\n",
    "print(list(np.array(array) + 5))"
   ]
  },
  {
   "cell_type": "code",
   "execution_count": 9,
   "metadata": {},
   "outputs": [
    {
     "name": "stdout",
     "output_type": "stream",
     "text": [
      "[4, 1, 5, 10, 8, 7, 6]\n"
     ]
    }
   ],
   "source": [
    "array = [-1, -4, 0, 5, 3, 2, 1]\n",
    "\n",
    "# Adding 5 to each element using list comprehension\n",
    "array = [num + 5 for num in array]\n",
    "\n",
    "print(array)\n",
    "\n"
   ]
  },
  {
   "cell_type": "code",
   "execution_count": null,
   "metadata": {},
   "outputs": [],
   "source": []
  }
 ],
 "metadata": {
  "kernelspec": {
   "display_name": "Python 3",
   "language": "python",
   "name": "python3"
  },
  "language_info": {
   "codemirror_mode": {
    "name": "ipython",
    "version": 3
   },
   "file_extension": ".py",
   "mimetype": "text/x-python",
   "name": "python",
   "nbconvert_exporter": "python",
   "pygments_lexer": "ipython3",
   "version": "3.8.10"
  }
 },
 "nbformat": 4,
 "nbformat_minor": 2
}
