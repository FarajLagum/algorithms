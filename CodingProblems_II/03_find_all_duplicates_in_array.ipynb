{
 "cells": [
  {
   "cell_type": "markdown",
   "id": "86fa72d4",
   "metadata": {},
   "source": [
    "442. Find All Duplicates in an Array\n",
    "\n",
    "\n",
    "Given an integer array nums of length n where all the integers of nums are in the range [1, n] and each integer appears once or twice, return an array of all the integers that appears twice.\n",
    "\n",
    "You must write an algorithm that runs in O(n) time and uses only constant extra space.\n",
    "\n",
    "\n",
    "Example 1:\n",
    "\n",
    "Input: nums = [4,3,2,7,8,2,3,1]\n",
    "Output: [2,3]\n",
    "Example 2:\n",
    "\n",
    "Input: nums = [1,1,2]\n",
    "Output: [1]\n",
    "Example 3:\n",
    "\n",
    "Input: nums = [1]\n",
    "Output: []\n",
    "\n",
    "\n",
    "Constraints:\n",
    "\n",
    "n == nums.length\n",
    "1 <= n <= 105\n",
    "1 <= nums[i] <= n\n",
    "Each element in nums appears once or twice."
   ]
  },
  {
   "cell_type": "markdown",
   "id": "a969a24a",
   "metadata": {},
   "source": [
    "# Solution 1\n",
    "\n",
    "Time complexity: O(n)\n",
    "\n",
    "Space Complexity: O(n)"
   ]
  },
  {
   "cell_type": "code",
   "execution_count": 15,
   "id": "f7fb4d89-470d-43a7-8558-4f54364fac01",
   "metadata": {},
   "outputs": [
    {
     "name": "stdout",
     "output_type": "stream",
     "text": [
      "[2, 3]\n"
     ]
    }
   ],
   "source": [
    "from collections import defaultdict\n",
    "\n",
    "nums = [4,3,2,7,8,2,3,1]\n",
    "\n",
    "\n",
    "def find_dublicate(nums):\n",
    "    hashmap =defaultdict(int)\n",
    "    dublicate =set()\n",
    "    # print(list(hashmap.values()))\n",
    "    for num in nums:\n",
    "        if num in hashmap:\n",
    "            dublicate.add(num) \n",
    "        hashmap[num] +=1\n",
    "        #print(list(hashmap.values()))\n",
    "    return list(dublicate)\n",
    "\n",
    "\n",
    "print(find_dublicate(nums))"
   ]
  },
  {
   "cell_type": "markdown",
   "id": "46c5a082",
   "metadata": {},
   "source": [
    "# Marking in Array Approach I\n"
   ]
  },
  {
   "cell_type": "code",
   "execution_count": 16,
   "id": "bccc9b89",
   "metadata": {},
   "outputs": [
    {
     "name": "stdout",
     "output_type": "stream",
     "text": [
      "[2, 3]\n",
      "[-4, 3, 2, -8, 7, 2, -3, -1]\n"
     ]
    }
   ],
   "source": [
    "def find_dublicate(nums):\n",
    "\n",
    "    res = []\n",
    "    for i in nums:\n",
    "        if nums[abs(i) - 1] < 0:\n",
    "            res.append(abs(i))\n",
    "        (nums[abs(i) - 1]) *= -1\n",
    "    return res\n",
    "\n",
    " \n",
    "\n",
    "nums = [4,3,2,8,7,2,3,1]\n",
    "\n",
    "print(find_dublicate(nums))\n",
    "print(nums)"
   ]
  },
  {
   "cell_type": "markdown",
   "id": "7e183c75",
   "metadata": {},
   "source": [
    "# Marking in Array Approach (Neet)\n"
   ]
  },
  {
   "cell_type": "code",
   "execution_count": 1,
   "id": "dc621ad8",
   "metadata": {},
   "outputs": [
    {
     "name": "stdout",
     "output_type": "stream",
     "text": [
      "[2, 3]\n"
     ]
    }
   ],
   "source": [
    "\n",
    "def find_dublicate(nums):\n",
    "    dublicate =[]\n",
    "    for num in nums:\n",
    "        index = abs(num)\n",
    "        #print(index)\n",
    "        if nums[index] < 0: # if the number is dublicate, then it is seen and marked before \n",
    "            dublicate.append(index)\n",
    "        nums[index] *= -1 # mark the number by - sign\n",
    "    return dublicate\n",
    "\n",
    "nums = [1,3,4,2,2, 3, 3, 5]\n",
    "\n",
    "print(find_dublicate(nums))\n",
    "#print(nums)"
   ]
  }
 ],
 "metadata": {
  "kernelspec": {
   "display_name": "Python 3 (ipykernel)",
   "language": "python",
   "name": "python3"
  },
  "language_info": {
   "codemirror_mode": {
    "name": "ipython",
    "version": 3
   },
   "file_extension": ".py",
   "mimetype": "text/x-python",
   "name": "python",
   "nbconvert_exporter": "python",
   "pygments_lexer": "ipython3",
   "version": "3.11.7"
  }
 },
 "nbformat": 4,
 "nbformat_minor": 5
}
