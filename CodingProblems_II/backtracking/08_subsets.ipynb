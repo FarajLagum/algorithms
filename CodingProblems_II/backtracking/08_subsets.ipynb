{
 "cells": [
  {
   "cell_type": "markdown",
   "id": "ca2d3c04",
   "metadata": {},
   "source": [
    "# 78 Subset\n",
    "\n",
    "Given an integer array nums of unique elements, return all possible \n",
    "subsets\n",
    " (the power set).\n",
    "\n",
    "The solution set must not contain duplicate subsets. Return the solution in any order.\n",
    "\n",
    " \n",
    "\n",
    "Example 1:\n",
    "\n",
    "Input: nums = [1,2,3]\n",
    "Output: [[],[1],[2],[1,2],[3],[1,3],[2,3],[1,2,3]]\n",
    "Example 2:\n",
    "\n",
    "Input: nums = [0]\n",
    "Output: [[],[0]]\n",
    " \n",
    "\n",
    "Constraints:\n",
    "\n",
    "1 <= nums.length <= 10\n",
    "-10 <= nums[i] <= 10\n",
    "All the numbers of nums are unique."
   ]
  },
  {
   "cell_type": "markdown",
   "id": "97370f11",
   "metadata": {},
   "source": [
    "# Brute Force"
   ]
  },
  {
   "cell_type": "code",
   "execution_count": 1,
   "id": "601a263d",
   "metadata": {},
   "outputs": [
    {
     "name": "stdout",
     "output_type": "stream",
     "text": [
      "[[], [1], [2], [1, 2], [3], [1, 3], [2, 3], [1, 2, 3]]\n"
     ]
    }
   ],
   "source": [
    "def subsets(nums):\n",
    "    super_set = [[]]\n",
    "    for num in nums:\n",
    "        new_set = []\n",
    "        for sub_set in super_set:\n",
    "            new_set.append(sub_set + [num])\n",
    "        super_set += new_set\n",
    "    return super_set\n",
    "\n",
    "nums = [1, 2, 3]\n",
    "print(subsets(nums))\n"
   ]
  },
  {
   "cell_type": "code",
   "execution_count": 2,
   "id": "737ffefc",
   "metadata": {},
   "outputs": [
    {
     "name": "stdout",
     "output_type": "stream",
     "text": [
      "[[], [1], [2], [1, 2], [3], [1, 3], [2, 3], [1, 2, 3]]\n"
     ]
    }
   ],
   "source": [
    "def subsets(nums):\n",
    "    super_set = [[]]\n",
    "    for num in nums:\n",
    "        super_set += [item + [num] for item in super_set]\n",
    "    return super_set\n",
    "\n",
    "nums = [1, 2, 3]\n",
    "print(subsets(nums))\n"
   ]
  },
  {
   "cell_type": "markdown",
   "id": "dfb94f39",
   "metadata": {},
   "source": [
    "# Backtrack"
   ]
  },
  {
   "cell_type": "code",
   "execution_count": 33,
   "id": "2c7b3b43",
   "metadata": {},
   "outputs": [
    {
     "name": "stdout",
     "output_type": "stream",
     "text": [
      "[[], [1], [2], [3], [1, 2], [1, 3], [2, 3], [1, 2, 3]]\n"
     ]
    }
   ],
   "source": [
    "def subsets(nums):\n",
    "    def backtrack(sub_set_index, sub_set, k):\n",
    "        if len(sub_set) == k:\n",
    "            output.append(sub_set[:])\n",
    "            return\n",
    "        for i in range(sub_set_index, n):\n",
    "            sub_set.append(nums[i])\n",
    "            backtrack(i + 1, sub_set, k)\n",
    "            sub_set.pop()\n",
    "\n",
    "    output = []\n",
    "    n = len(nums)\n",
    "    for k in range(n + 1):\n",
    "        backtrack(sub_set_index=0, sub_set=[], k=k)\n",
    "    return output\n",
    "\n",
    "nums = [1, 2, 3]\n",
    "print(subsets(nums))\n"
   ]
  },
  {
   "cell_type": "markdown",
   "id": "80b9c4ab",
   "metadata": {},
   "source": [
    "# Backtrack - follow template"
   ]
  },
  {
   "cell_type": "code",
   "execution_count": 25,
   "metadata": {},
   "outputs": [
    {
     "name": "stdout",
     "output_type": "stream",
     "text": [
      "[[], [1], [2], [3], [1, 2], [1, 3], [2, 3], [1, 2, 3]]\n"
     ]
    }
   ],
   "source": [
    "def backtrack(sub_set_index, sub_set, k):\n",
    "    if len(sub_set) == k:\n",
    "        result.append(sub_set.copy())\n",
    "        return\n",
    "    for candidate in range(sub_set_index, len(nums)):\n",
    "        sub_set.append(nums[candidate]) # mark \n",
    "        candidate += 1 # increment \n",
    "        backtrack(candidate, sub_set, k)\n",
    "        candidate -= 1 # decrement\n",
    "        sub_set.pop() # unmark\n",
    "\n",
    "def subsets(nums):\n",
    "    for k in range(len(nums) + 1):\n",
    "        backtrack(sub_set_index=0, sub_set=[], k=k)\n",
    "    return result\n",
    "\n",
    "result = []\n",
    "nums = [1, 2, 3]\n",
    "print(subsets(nums))"
   ]
  },
  {
   "cell_type": "markdown",
   "id": "4251b75d",
   "metadata": {},
   "source": [
    "# Neet Backtrack"
   ]
  },
  {
   "cell_type": "code",
   "execution_count": 7,
   "id": "552b9b60",
   "metadata": {},
   "outputs": [
    {
     "name": "stdout",
     "output_type": "stream",
     "text": [
      "[[], [1], [1, 2], [1, 2, 3], [1, 3], [2], [2, 3], [3]]\n"
     ]
    }
   ],
   "source": [
    "def subsets(nums):\n",
    "    output = [[]]\n",
    "    nums_len = len(nums)\n",
    "    def backtrack(array, i):\n",
    "        if i >= nums_len:\n",
    "            return\n",
    "        output.append(array+[nums[i]])\n",
    "        # take\n",
    "        backtrack(array+[nums[i]], i+1)\n",
    "        # not take\n",
    "        backtrack(array, i+1)\n",
    "\n",
    "    backtrack([], 0)\n",
    "    return output\n",
    "\n",
    "nums = [1, 2, 3]\n",
    "print(subsets(nums))"
   ]
  },
  {
   "cell_type": "code",
   "execution_count": 22,
   "id": "f2fb903b",
   "metadata": {},
   "outputs": [
    {
     "name": "stdout",
     "output_type": "stream",
     "text": [
      "[[], [1], [1, 2], [1, 2, 3], [1, 3], [2], [2, 3], [3]]\n"
     ]
    }
   ],
   "source": [
    "def backtrack(array, i, nums, output):\n",
    "    if i >= len(nums):\n",
    "        return\n",
    "    output.append(array+[nums[i]])\n",
    "    # take\n",
    "    backtrack(array+[nums[i]], i+1, nums, output)\n",
    "    # not take\n",
    "    backtrack(array, i+1,nums, output)\n",
    "\n",
    "\n",
    "def subsets(nums):\n",
    "    output = [[]]\n",
    "    array = []\n",
    "    index = 0\n",
    "\n",
    "    backtrack(array, index, nums, output)\n",
    "    return output\n",
    "\n",
    "nums = [1, 2, 3]\n",
    "print(subsets(nums))"
   ]
  }
 ],
 "metadata": {
  "kernelspec": {
   "display_name": "Python 3 (ipykernel)",
   "language": "python",
   "name": "python3"
  },
  "language_info": {
   "codemirror_mode": {
    "name": "ipython",
    "version": 3
   },
   "file_extension": ".py",
   "mimetype": "text/x-python",
   "name": "python",
   "nbconvert_exporter": "python",
   "pygments_lexer": "ipython3",
   "version": "3.11.7"
  }
 },
 "nbformat": 4,
 "nbformat_minor": 5
}
