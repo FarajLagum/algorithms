{
 "cells": [
  {
   "cell_type": "markdown",
   "metadata": {},
   "source": [
    "# canConstruct\n",
    "\n",
    "Write a function “`canConstruct(target, wordBank)`™ that accepts a target string and an array of strings.  \n",
    "The function should return a boolean indicating whether or not the `target` can be constructed by concatenating elements of the  `wordBank` array.  \n",
    "You may reuse elements of `wordBank` as many times as needed.  \n",
    "\n",
    "\n",
    "canConstruct(abcdef, [ab, abc, cd, def, abcd]) —> true\n",
    " \n",
    "abc + def \n",
    "\n",
    "\n",
    "canConstruct(skateboard, [ bo,rd,ate,t,ska,sk,boar]) —> false \n",
    "\n",
    "ska + t + ?  \n",
    "sk + ate + boar + ?  \n",
    "sk + ate + bo + ?  \n",
    "\n",
    "\n",
    "canConstruct(‘’, [ cat, dog, mouse ]) —> true"
   ]
  },
  {
   "cell_type": "markdown",
   "metadata": {},
   "source": [
    "![Alt text](image.png)"
   ]
  },
  {
   "cell_type": "markdown",
   "metadata": {},
   "source": [
    "![Alt text](image-1.png)"
   ]
  },
  {
   "cell_type": "code",
   "execution_count": 5,
   "metadata": {},
   "outputs": [
    {
     "name": "stdout",
     "output_type": "stream",
     "text": [
      "True\n",
      "False\n",
      "True\n"
     ]
    }
   ],
   "source": [
    "def canConstruct(target, wordBank, memo={}):\n",
    "    if target in memo:\n",
    "        return memo[target]\n",
    "    if target == '':\n",
    "        return True\n",
    "    \n",
    "    for word in wordBank:\n",
    "        if target.startswith(word):\n",
    "            suffix = target[len(word):]\n",
    "            if canConstruct(suffix, wordBank, memo):\n",
    "                memo[target] = True\n",
    "                return True\n",
    "    \n",
    "    memo[target] = False\n",
    "    return False\n",
    "\n",
    "# Test cases\n",
    "print(canConstruct(\"abcdef\", [\"ab\", \"abc\", \"cd\", \"def\", \"abcd\"]))  # True\n",
    "print(canConstruct(\"skateboard\", [\"bo\", \"rd\", \"ate\", \"t\", \"ska\", \"sk\", \"boar\"]))  # False\n",
    "print(canConstruct(\"\", [\"cat\", \"dog\", \"mouse\"]))  # True\n"
   ]
  }
 ],
 "metadata": {
  "kernelspec": {
   "display_name": "Python 3",
   "language": "python",
   "name": "python3"
  },
  "language_info": {
   "codemirror_mode": {
    "name": "ipython",
    "version": 3
   },
   "file_extension": ".py",
   "mimetype": "text/x-python",
   "name": "python",
   "nbconvert_exporter": "python",
   "pygments_lexer": "ipython3",
   "version": "3.11.7"
  }
 },
 "nbformat": 4,
 "nbformat_minor": 2
}
