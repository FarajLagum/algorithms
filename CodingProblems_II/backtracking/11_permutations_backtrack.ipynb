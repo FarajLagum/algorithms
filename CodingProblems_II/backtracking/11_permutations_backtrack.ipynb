{
 "cells": [
  {
   "cell_type": "code",
   "execution_count": 1,
   "id": "94c5618a",
   "metadata": {},
   "outputs": [
    {
     "name": "stdout",
     "output_type": "stream",
     "text": [
      "[[1, 2, 3], [1, 3, 2], [2, 1, 3], [2, 3, 1], [3, 1, 2], [3, 2, 1]]\n"
     ]
    }
   ],
   "source": [
    "def permute(nums):\n",
    "  # base case: if nums is empty, return an empty list\n",
    "  if not nums:\n",
    "    return []\n",
    "  # base case: if nums has only one element, return a list containing a singleton list\n",
    "  if len(nums) == 1:\n",
    "    return [nums]\n",
    "  # recursive case: for each element in nums, remove it and permute the rest, then append the element to each permutation\n",
    "  result = []\n",
    "  for i in range(len(nums)):\n",
    "    # remove the ith element from nums\n",
    "    num = nums[i]\n",
    "    rest = nums[:i] + nums[i+1:]\n",
    "    # permute the rest\n",
    "    permutations = permute(rest)\n",
    "    # append the num to each permutation\n",
    "    for permutation in permutations:\n",
    "      result.append([num] + permutation)\n",
    "  return result\n",
    "\n",
    "\n",
    "result = permute([1,2,3])\n",
    "print(result)\n",
    "\n",
    "\n"
   ]
  },
  {
   "cell_type": "code",
   "execution_count": 2,
   "id": "eeffd5b7",
   "metadata": {},
   "outputs": [
    {
     "name": "stdout",
     "output_type": "stream",
     "text": [
      "[[1, 2, 3], [1, 3, 2], [2, 1, 3], [2, 3, 1], [3, 1, 2], [3, 2, 1]]\n"
     ]
    }
   ],
   "source": [
    "def search(path):\n",
    "    # base case: if the path has the same length as nums, add it to the result\n",
    "    if len(path) == len(nums):\n",
    "      result.append(path.copy()) # path[:]\n",
    "      return\n",
    "    # recursive case: for each element in nums, if it is not used, mark it as used and append it to the path, then backtrack, then undo the changes\n",
    "    for candidate_index in range(len(nums)):\n",
    "      if not used_flag[candidate_index]:\n",
    "        used_flag[candidate_index] = True\n",
    "        path.append(nums[candidate_index])\n",
    "        search(path)\n",
    "        path.pop()\n",
    "        used_flag[candidate_index] = False\n",
    "  # start with an empty path\n",
    "\n",
    "def permute(nums):\n",
    "  # base case: if nums is empty, return an empty list\n",
    "  if not nums:\n",
    "    return []\n",
    "  # base case: if nums has only one element, return a list containing a singleton list\n",
    "  if len(nums) == 1:\n",
    "    return [nums]\n",
    "\n",
    "  \n",
    "  search([])\n",
    "  return result\n",
    "\n",
    "\n",
    "# recursive case: use a list to track the used elements, and a helper function to generate permutations\n",
    "nums =[1,2,3]\n",
    "used_flag = [False] * len(nums)\n",
    "result = []\n",
    "\n",
    "\n",
    "result = permute(nums)\n",
    "\n",
    "print(result)"
   ]
  }
 ],
 "metadata": {
  "kernelspec": {
   "display_name": "Python 3 (ipykernel)",
   "language": "python",
   "name": "python3"
  },
  "language_info": {
   "codemirror_mode": {
    "name": "ipython",
    "version": 3
   },
   "file_extension": ".py",
   "mimetype": "text/x-python",
   "name": "python",
   "nbconvert_exporter": "python",
   "pygments_lexer": "ipython3",
   "version": "3.11.7"
  }
 },
 "nbformat": 4,
 "nbformat_minor": 5
}
