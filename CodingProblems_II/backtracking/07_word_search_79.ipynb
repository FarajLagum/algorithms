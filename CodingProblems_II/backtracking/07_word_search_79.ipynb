{
 "cells": [
  {
   "cell_type": "code",
   "execution_count": 8,
   "id": "5600228b-9785-4f36-a77f-1530ae570ba5",
   "metadata": {},
   "outputs": [
    {
     "name": "stdout",
     "output_type": "stream",
     "text": [
      "True\n",
      "True\n",
      "False\n"
     ]
    }
   ],
   "source": [
    "def have_found_the_word(word, letter_index):\n",
    "    return letter_index == len(word) - 1\n",
    "\n",
    "def is_out_of_bounds_or_no_match(board, word, row_index, col_index, letter_index):\n",
    "    checks = not 0 <= row_index < len(board) or \\\n",
    "        not 0 <= col_index < len(board[0]) or \\\n",
    "        board[row_index][col_index] != word[letter_index] # the current cell Don't match the current letter id the word\n",
    "    return checks\n",
    "\n",
    "def dfs(board, word, row_index, col_index, letter_index):\n",
    "    # Check if the current cell is out of bounds or does not match the current letter of the word\n",
    "    if is_out_of_bounds_or_no_match(board, word, row_index, col_index, letter_index):\n",
    "        return False\n",
    "    # Check if we have found the entire word\n",
    "    if have_found_the_word(word, letter_index):\n",
    "        return True\n",
    "    \n",
    "    # Mark the current cell with '_' as visited and  \n",
    "    original_letter, board[row_index][col_index] = board[row_index][col_index], '_'\n",
    "\n",
    "    # try to find the next letter of the word in the neighboring cells\n",
    "    result = dfs(board, word, row_index + 1, col_index, letter_index + 1) or \\\n",
    "          dfs(board, word, row_index - 1, col_index, letter_index + 1) or \\\n",
    "          dfs(board, word, row_index, col_index + 1, letter_index + 1) or \\\n",
    "          dfs(board, word, row_index, col_index - 1, letter_index + 1)\n",
    "    \n",
    "    # Unmark the current cell and return the result\n",
    "    board[row_index][col_index] = original_letter #backtracking\n",
    "\n",
    "    return result\n",
    "\n",
    "\n",
    "def is_exist(board, word):\n",
    "    # Iterate over all cells in the board and try to find the word starting from each cell\n",
    "    for row_index in range(len(board)):\n",
    "        for col_index in range(len(board[0])):\n",
    "            if dfs(board, word, row_index, col_index, letter_index=0):\n",
    "                return True\n",
    "    # If the word is not found, return False\n",
    "    return False\n",
    "\n",
    "\n",
    "board = [[\"A\",\"B\",\"C\",\"E\"],[\"S\",\"F\",\"C\",\"S\"],[\"A\",\"D\",\"E\",\"E\"]]\n",
    "word1 = \"ABCCED\"\n",
    "word2 = \"SEE\"\n",
    "word3 = \"ABCB\"\n",
    "print(is_exist(board, word1))  # Output: True\n",
    "print(is_exist(board, word2))  # Output: True\n",
    "print(is_exist(board, word3))  # Output: False\n"
   ]
  },
  {
   "cell_type": "code",
   "execution_count": 15,
   "id": "b6adb727",
   "metadata": {},
   "outputs": [
    {
     "name": "stdout",
     "output_type": "stream",
     "text": [
      "True\n",
      "False\n",
      "False\n"
     ]
    }
   ],
   "source": [
    "# NOT correct\n",
    "\n",
    "def is_exist(board, word):\n",
    "    for i in range(len(board)):\n",
    "        for j in range(len(board[i])):\n",
    "            if backtracking(i, j,word,board):\n",
    "                return True\n",
    "    return False\n",
    "def backtracking(i, j,word,board):\n",
    "        if len(word) == 0:\n",
    "            return True\n",
    "        if i < 0 or i >= len(board) or j < 0 or j >= len(board[i]):\n",
    "            return False\n",
    "        if board[i][j] == word[0]:\n",
    "            board[i][j] = \"~\"\n",
    "            if backtracking(i+1, j, word[1:],board) or backtracking(i-1, j, word[1:],board) or backtracking(i, j+1, word[1:],board) or backtracking( i, j-1, word[1:],board):\n",
    "                return True\n",
    "            board[i][j] = word[0]\n",
    "        return False\n",
    "\n",
    "\n",
    "board = [[\"A\",\"B\",\"C\",\"E\"],[\"S\",\"F\",\"C\",\"S\"],[\"A\",\"D\",\"E\",\"E\"]]\n",
    "word1 = \"ABCCED\"\n",
    "word2 = \"SEE\"\n",
    "word3 = \"ABCB\"\n",
    "print(is_exist(board, word1))  # Output: True\n",
    "print(is_exist(board, word2))  # Output: True\n",
    "print(is_exist(board, word3))  # Output: False\n"
   ]
  },
  {
   "cell_type": "code",
   "execution_count": 10,
   "id": "7492b103",
   "metadata": {},
   "outputs": [
    {
     "name": "stdout",
     "output_type": "stream",
     "text": [
      "True\n",
      "True\n",
      "False\n"
     ]
    }
   ],
   "source": [
    "from collections import Counter\n",
    "def is_exist(board, word):\n",
    "    \n",
    "    M = len(board)\n",
    "    N = len(board[0])\n",
    "    \n",
    "    if len(word) > M*N:\n",
    "        return False\n",
    "    \n",
    "    count = Counter(sum(board, []))\n",
    "    \n",
    "    for col, countWord in Counter(word).items():\n",
    "        if count[col] < countWord:\n",
    "            return False\n",
    "        \n",
    "    if count[word[0]] > count[word[-1]]:\n",
    "            word = word[::-1]\n",
    "                    \n",
    "    seen = set()\n",
    "    \n",
    "    def dfs(row, col, i):\n",
    "        if i == len(word):\n",
    "            return True\n",
    "        if row < 0 or col < 0 or row >= M or col >= N or word[i] != board[row][col] or (row,col) in seen:\n",
    "            return False\n",
    "        \n",
    "        seen.add((row,col))\n",
    "        res = (\n",
    "            dfs(row+1,col,i+1) or \n",
    "            dfs(row-1,col,i+1) or\n",
    "            dfs(row,col+1,i+1) or\n",
    "            dfs(row,col-1,i+1) \n",
    "        )\n",
    "        seen.remove((row,col))  #backtracking\n",
    "\n",
    "        return res\n",
    "    \n",
    "    for i in range(M):\n",
    "        for j in range(N):\n",
    "            if dfs(i,j,0):\n",
    "                return True\n",
    "    return False\n",
    "    \n",
    "board = [[\"A\",\"B\",\"C\",\"E\"],[\"S\",\"F\",\"C\",\"S\"],[\"A\",\"D\",\"E\",\"E\"]]\n",
    "word1 = \"ABCCED\"\n",
    "word2 = \"SEE\"\n",
    "word3 = \"ABCB\"\n",
    "print(is_exist(board, word1))  # Output: True\n",
    "print(is_exist(board, word2))  # Output: True\n",
    "print(is_exist(board, word3))  # Output: False\n"
   ]
  }
 ],
 "metadata": {
  "kernelspec": {
   "display_name": "Python 3 (ipykernel)",
   "language": "python",
   "name": "python3"
  },
  "language_info": {
   "codemirror_mode": {
    "name": "ipython",
    "version": 3
   },
   "file_extension": ".py",
   "mimetype": "text/x-python",
   "name": "python",
   "nbconvert_exporter": "python",
   "pygments_lexer": "ipython3",
   "version": "3.11.7"
  }
 },
 "nbformat": 4,
 "nbformat_minor": 5
}
