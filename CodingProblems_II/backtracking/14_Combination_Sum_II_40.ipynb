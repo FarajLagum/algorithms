{
 "cells": [
  {
   "cell_type": "code",
   "execution_count": 3,
   "id": "038b1088",
   "metadata": {},
   "outputs": [
    {
     "name": "stdout",
     "output_type": "stream",
     "text": [
      "[[1, 1, 6], [1, 2, 5], [1, 7], [2, 6]]\n",
      "[[1, 2, 2], [5]]\n"
     ]
    }
   ],
   "source": [
    "def combinationSum2(candidates, target):\n",
    "    def dfs(candidates, target, start_index, path, res):\n",
    "        if target < 0:\n",
    "            return  # backtracking\n",
    "        if target == 0:\n",
    "            res.append(path)\n",
    "            return \n",
    "        for candidate_index in range(start_index, len(candidates)):\n",
    "            # Skip duplicates\n",
    "            if candidate_index > start_index and candidates[candidate_index] == candidates[candidate_index-1]:\n",
    "                continue\n",
    "            dfs(candidates, target-candidates[candidate_index], candidate_index+1, path+[candidates[candidate_index]], res)\n",
    "\n",
    "    candidates.sort()\n",
    "    res = []\n",
    "    dfs(candidates, target, 0, [], res)\n",
    "    return res\n",
    "print(combinationSum2([10,1,2,7,6,1,5], 8))\n",
    "print(combinationSum2([2,5,2,1,2], 5))\n"
   ]
  },
  {
   "cell_type": "markdown",
   "id": "1926cc3f",
   "metadata": {},
   "source": [
    "\n",
    "**Time Complexity:**\n",
    "The time complexity of this solution is O(N^(T/M)) where:\n",
    "- N is the number of candidates,\n",
    "- T is the target value, and\n",
    "- M is the minimal value among the candidates.\n",
    "\n",
    "This is because in the worst case, the solution will explore each possibility `(N^(T/M))` to find all unique combinations. The depth of the recursion tree can go up to `T/M `where `T` is the target value and `M` is the minimal value among the candidates. For each node of the recursion tree, it branches to at most `N` subsequent nodes until it reaches the end of the array.\n",
    "\n",
    "**Space Complexity:**\n",
    "The space complexity is `O(T/M)` for the recursion stack. In the worst case, if the minimum value in the array is 1, then the maximum depth of the recursion is the value of the target. This is the maximum number of entries pushed onto the system recursive stack.\n",
    "\n",
    "The path list and result list will also take extra space. However, the space taken by path and result list is negligible compared to the recursion stack when T/M is large.\n",
    "\n"
   ]
  },
  {
   "cell_type": "code",
   "execution_count": 1,
   "id": "999049e1",
   "metadata": {},
   "outputs": [
    {
     "name": "stdout",
     "output_type": "stream",
     "text": [
      "[[1, 1, 6], [1, 2, 5], [1, 7], [2, 6]]\n",
      "[[1, 2, 2], [5]]\n"
     ]
    }
   ],
   "source": [
    "# Neet\n",
    "def search(candidates, target, start_index, path, result):\n",
    "    if target < 0: \n",
    "        return  # we’ve overshot --> backtracking\n",
    "    if target == 0:\n",
    "        result.append(path.copy()) # , we’ve found a successful combination\n",
    "        return \n",
    "    for candidate_index in range(start_index, len(candidates)):\n",
    "        # Skip duplicates\n",
    "        if candidate_index > start_index and candidates[candidate_index] == candidates[candidate_index - 1]:\n",
    "            continue\n",
    "        path.append(candidates[candidate_index]) # mark\n",
    "        # subtracting the current number from target\n",
    "        target = target - candidates[candidate_index]\n",
    "        # We perform a recursive search with the updated target and path, and the next start_index.\n",
    "        search(candidates, target, candidate_index + 1, path , result)\n",
    "        target = target + candidates[candidate_index] # undo\n",
    "        path.pop() #unmark \n",
    "\n",
    "def combinationSum2(candidates, target):\n",
    "    candidates.sort() # sort the candidates to skip duplicates\n",
    "    result = []\n",
    "    path =[]\n",
    "    start_index = 0\n",
    "    search(candidates, target, start_index, path, result)\n",
    "    return result\n",
    "\n",
    "print(combinationSum2([10,1,2,7,6,1,5], 8))\n",
    "print(combinationSum2([2,5,2,1,2], 5))\n"
   ]
  },
  {
   "cell_type": "markdown",
   "id": "2b5256e6",
   "metadata": {},
   "source": [
    "# Explaination:\n",
    "\n",
    "The condition `candidate_index > start_index` is used to ensure that we only skip duplicate elements when we are moving forward in the `candidates` list, not when we are exploring different combinations starting from the same element.\n",
    "\n",
    "Let's consider an example: `candidates = [1, 2, 2, 5]` and `target = 5`. The sorted `candidates` list has duplicate `2`s. \n",
    "\n",
    "When `start_index` is 0 (pointing to the first `1`), and `candidate_index` becomes 1 (pointing to the first `2`), we don't want to skip this `2` because it's a new exploration starting from `1`. \n",
    "\n",
    "However, when we have moved forward, and `start_index` is 1 (pointing to the first `2`), and `candidate_index` is 2 (pointing to the second `2`), now we want to skip this `2` because it's a duplicate and we have already explored all combinations starting from the first `2`.\n",
    "\n",
    "So, `candidate_index > start_index` ensures that we only skip a candidate when we have moved forward in the list and the current candidate is the same as the previous one, which means it's a duplicate. This helps to avoid duplicate combinations in the result.\n",
    "\n"
   ]
  },
  {
   "cell_type": "markdown",
   "id": "eb499e8d",
   "metadata": {},
   "source": [
    "# The complexity of backtracking in general:\n",
    "\n",
    "**The time complexity**: The time complexity of backtracking algorithms is often hard to calculate and can vary greatly depending on the specific problem, the constraints, and the input data. However, in the worst-case scenario, backtracking algorithms can have a time complexity of `O(N!)` or even `O(N^N)`, where `N` is the size of the input. This is because **backtracking is an exhaustive search** technique and in the worst case, it might end up exploring all possible combinations.\n",
    "\n",
    "**The space complexity** of backtracking algorithms is usually O(N), as they generally require storing a stack of up to N recursive calls.\n",
    "\n",
    "The actual time and space complexity can be much better if the problem has additional properties that the algorithm can take advantage of, or much worse if the problem requires exploring a large number of possibilities. For example, if a **solution can be found without exploring all possibilities**, or if the algorithm can effectively **prune branches of the search space**, the actual time complexity can be significantly less than the worst-case scenario.\n",
    "\n",
    "Backtracking can be computationally expensive, but it's a powerful technique that can solve complex problems that are hard to solve with other methods. It's particularly effective for solving constraint satisfaction problems, where you need to find a solution that meets a set of constraints. "
   ]
  }
 ],
 "metadata": {
  "kernelspec": {
   "display_name": "Python 3 (ipykernel)",
   "language": "python",
   "name": "python3"
  },
  "language_info": {
   "codemirror_mode": {
    "name": "ipython",
    "version": 3
   },
   "file_extension": ".py",
   "mimetype": "text/x-python",
   "name": "python",
   "nbconvert_exporter": "python",
   "pygments_lexer": "ipython3",
   "version": "3.11.7"
  }
 },
 "nbformat": 4,
 "nbformat_minor": 5
}
