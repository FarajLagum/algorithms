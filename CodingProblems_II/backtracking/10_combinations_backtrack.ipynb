{
 "cells": [
  {
   "cell_type": "code",
   "execution_count": 2,
   "id": "94c5618a",
   "metadata": {},
   "outputs": [
    {
     "name": "stdout",
     "output_type": "stream",
     "text": [
      "[[1, 2, 3], [1, 2, 4], [1, 2, 5], [1, 3, 4], [1, 3, 5], [1, 4, 5], [2, 3, 4], [2, 3, 5], [2, 4, 5], [3, 4, 5]]\n",
      "The number of combinations of 3 items from a set of 5 items is 10.\n"
     ]
    }
   ],
   "source": [
    "\n",
    "\n",
    "def search(start, path, n, r):\n",
    "    if len(path) == r:\n",
    "        result.append(path.copy())\n",
    "        return\n",
    "    for candidate in range(start, n + 1):\n",
    "        path.append(candidate)\n",
    "        search(candidate + 1, path, n, r)\n",
    "        path.pop()\n",
    "\n",
    "\n",
    "def combination(n, r):\n",
    "\n",
    "    start = 1\n",
    "    curr_comb = []\n",
    "    search(start, curr_comb, n, r) # start = 1 -> range = [1 --> 5] inclusive\n",
    "    \n",
    "    return result\n",
    "\n",
    "\n",
    "\n",
    "n = 5\n",
    "r = 3\n",
    "result = []\n",
    "result = combination(n, r)\n",
    "print(result)\n",
    "n_comb = len(result)\n",
    "\n",
    "\n",
    "print(f\"The number of combinations of {r} items from a set of {n} items is {n_comb}.\")\n"
   ]
  }
 ],
 "metadata": {
  "kernelspec": {
   "display_name": "Python 3 (ipykernel)",
   "language": "python",
   "name": "python3"
  },
  "language_info": {
   "codemirror_mode": {
    "name": "ipython",
    "version": 3
   },
   "file_extension": ".py",
   "mimetype": "text/x-python",
   "name": "python",
   "nbconvert_exporter": "python",
   "pygments_lexer": "ipython3",
   "version": "3.11.7"
  }
 },
 "nbformat": 4,
 "nbformat_minor": 5
}
