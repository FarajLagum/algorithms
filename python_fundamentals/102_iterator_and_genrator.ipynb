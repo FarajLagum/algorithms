{
 "cells": [
  {
   "cell_type": "markdown",
   "id": "11e76dfe",
   "metadata": {},
   "source": [
    "# Iterators:\n",
    "\n",
    "* An iterator is an object that contains a countable number of values.\n",
    "* An iterator is an object that implements the iterator protocol, which consists of the methods __iter__() and __next__().\n",
    "\n",
    "* Iterators allow lazy evaluation, only generating the next element of an iterable object when required.\n",
    "* They are more memory efficient when dealing with large data.\n"
   ]
  },
  {
   "cell_type": "code",
   "execution_count": 2,
   "id": "96d70e2c",
   "metadata": {},
   "outputs": [
    {
     "name": "stdout",
     "output_type": "stream",
     "text": [
      "1\n",
      "2\n",
      "3\n"
     ]
    }
   ],
   "source": [
    "# Example of an iterator:\n",
    "\n",
    "\n",
    "class MyNumbers:\n",
    "  def __iter__(self):\n",
    "    self.a = 1\n",
    "    return self\n",
    "\n",
    "  def __next__(self):\n",
    "    x = self.a\n",
    "    self.a += 1\n",
    "    return x\n",
    "\n",
    "myclass = MyNumbers()\n",
    "myiter = iter(myclass)\n",
    "\n",
    "print(next(myiter))\n",
    "print(next(myiter))\n",
    "print(next(myiter))\n"
   ]
  },
  {
   "cell_type": "code",
   "execution_count": 8,
   "id": "139a7d01",
   "metadata": {},
   "outputs": [
    {
     "name": "stdout",
     "output_type": "stream",
     "text": [
      "10\n",
      "17\n",
      "20\n",
      "29\n",
      "36\n"
     ]
    }
   ],
   "source": [
    "import random\n",
    "\n",
    "class RandomIncrementIterator:\n",
    "    def __init__(self, start=0):\n",
    "        self.num = start\n",
    "\n",
    "    def __iter__(self):\n",
    "        return self\n",
    "\n",
    "    def __next__(self):\n",
    "        self.num += random.randint(1, 10)\n",
    "        return self.num\n",
    "\n",
    "# Create an instance of the iterator\n",
    "rand_iter = RandomIncrementIterator()\n",
    "\n",
    "# Print the first 5 random increasing numbers\n",
    "for _ in range(5):\n",
    "    print(next(rand_iter))\n"
   ]
  },
  {
   "cell_type": "code",
   "execution_count": 31,
   "id": "cf981456",
   "metadata": {},
   "outputs": [
    {
     "name": "stdout",
     "output_type": "stream",
     "text": [
      "6\n",
      "8\n",
      "11\n",
      "19\n",
      "22\n"
     ]
    }
   ],
   "source": [
    "import random\n",
    "\n",
    "class RandomIncrementIterator:\n",
    "    def __init__(self, limit):\n",
    "        self._offset = 0\n",
    "        self._limit = limit\n",
    "\n",
    "    def __iter__(self):\n",
    "        return self\n",
    "\n",
    "    def __next__(self):\n",
    "        self._offset += random.randint(1, 10)\n",
    "        if self._offset > self._limit:\n",
    "            raise StopIteration()\n",
    "        \n",
    "        return self._offset\n",
    "\n",
    "# Create an instance of the iterator\n",
    "rand_iter = RandomIncrementIterator(100)\n",
    "\n",
    "# Print the first 5 random increasing numbers\n",
    "for _ in range(5):\n",
    "    print(next(rand_iter))\n"
   ]
  },
  {
   "cell_type": "code",
   "execution_count": 32,
   "id": "14a6667b",
   "metadata": {},
   "outputs": [
    {
     "name": "stdout",
     "output_type": "stream",
     "text": [
      "8\n",
      "9\n",
      "10\n",
      "20\n",
      "21\n",
      "27\n",
      "30\n",
      "36\n",
      "44\n",
      "45\n",
      "46\n"
     ]
    }
   ],
   "source": [
    "import random\n",
    "\n",
    "class RandomIncrementIterator:\n",
    "    def __init__(self, start=0, limit=100):\n",
    "        self.num = start\n",
    "        self.limit = limit\n",
    "\n",
    "    def __iter__(self):\n",
    "        return self\n",
    "\n",
    "    def __next__(self):\n",
    "        self.num += random.randint(1, 10)\n",
    "        if self.num > self.limit:\n",
    "            raise StopIteration()\n",
    "        return self.num\n",
    "\n",
    "# Create an instance of the iterator\n",
    "rand_iter = RandomIncrementIterator(limit=50)\n",
    "\n",
    "# Print the random increasing numbers until the limit is reached\n",
    "for num in rand_iter:\n",
    "    print(num)\n"
   ]
  },
  {
   "cell_type": "markdown",
   "id": "5210258b",
   "metadata": {},
   "source": [
    "# Generators:\n",
    "\n",
    "* Generators are a simple way of creating iterators.\n",
    "* A generator is a function that returns an object (iterator) which we can iterate over (one value at a time).\n",
    "* It is written like a regular function but uses the yield statement whenever it wants to return data.\n",
    "* Each time next() is called on it, the generator resumes where it left off and yields the next value."
   ]
  },
  {
   "cell_type": "code",
   "execution_count": 45,
   "id": "3dd0f7d4",
   "metadata": {},
   "outputs": [
    {
     "name": "stdout",
     "output_type": "stream",
     "text": [
      "1\n",
      "2\n",
      "3\n"
     ]
    }
   ],
   "source": [
    "def my_numbers():\n",
    "  num = 1\n",
    "  while True:\n",
    "    yield num\n",
    "    num += 1\n",
    "\n",
    "mynum = my_numbers()\n",
    "\n",
    "print(next(mynum))\n",
    "print(next(mynum))\n",
    "print(next(mynum))\n"
   ]
  },
  {
   "cell_type": "code",
   "execution_count": 1,
   "id": "565d225c",
   "metadata": {},
   "outputs": [
    {
     "ename": "NameError",
     "evalue": "name 'random' is not defined",
     "output_type": "error",
     "traceback": [
      "\u001b[0;31m---------------------------------------------------------------------------\u001b[0m",
      "\u001b[0;31mNameError\u001b[0m                                 Traceback (most recent call last)",
      "Cell \u001b[0;32mIn[1], line 13\u001b[0m\n\u001b[1;32m     10\u001b[0m mynum \u001b[38;5;241m=\u001b[39m random_iterator(\u001b[38;5;241m50\u001b[39m)\n\u001b[1;32m     12\u001b[0m \u001b[38;5;28;01mwhile\u001b[39;00m \u001b[38;5;28;01mTrue\u001b[39;00m:\n\u001b[0;32m---> 13\u001b[0m     \u001b[38;5;28mprint\u001b[39m(\u001b[38;5;28;43mnext\u001b[39;49m\u001b[43m(\u001b[49m\u001b[43mmynum\u001b[49m\u001b[43m)\u001b[49m)\n",
      "Cell \u001b[0;32mIn[1], line 4\u001b[0m, in \u001b[0;36mrandom_iterator\u001b[0;34m(limit)\u001b[0m\n\u001b[1;32m      2\u001b[0m offset \u001b[38;5;241m=\u001b[39m \u001b[38;5;241m0\u001b[39m\n\u001b[1;32m      3\u001b[0m \u001b[38;5;28;01mwhile\u001b[39;00m \u001b[38;5;28;01mTrue\u001b[39;00m:\n\u001b[0;32m----> 4\u001b[0m     offset \u001b[38;5;241m+\u001b[39m\u001b[38;5;241m=\u001b[39m \u001b[38;5;241m10\u001b[39m\u001b[38;5;241m*\u001b[39m\u001b[43mrandom\u001b[49m\u001b[38;5;241m.\u001b[39mrandom()\n\u001b[1;32m      5\u001b[0m     \u001b[38;5;28;01mif\u001b[39;00m (offset \u001b[38;5;241m>\u001b[39m limit):\n\u001b[1;32m      6\u001b[0m         \u001b[38;5;28;01mreturn\u001b[39;00m \u001b[38;5;66;03m# raise StopIteration\u001b[39;00m\n",
      "\u001b[0;31mNameError\u001b[0m: name 'random' is not defined"
     ]
    }
   ],
   "source": [
    "def random_iterator(limit):\n",
    "    offset = 0\n",
    "    while True:\n",
    "        offset += 10*random.random()\n",
    "        if (offset > limit):\n",
    "            return # raise StopIteration\n",
    "        yield offset\n",
    "\n",
    "\n",
    "mynum = random_iterator(50)\n",
    "\n",
    "while True:\n",
    "    print(next(mynum))\n",
    "\n",
    "\n",
    "\n",
    "\n",
    "\n"
   ]
  }
 ],
 "metadata": {
  "kernelspec": {
   "display_name": "Python 3 (ipykernel)",
   "language": "python",
   "name": "python3"
  },
  "language_info": {
   "codemirror_mode": {
    "name": "ipython",
    "version": 3
   },
   "file_extension": ".py",
   "mimetype": "text/x-python",
   "name": "python",
   "nbconvert_exporter": "python",
   "pygments_lexer": "ipython3",
   "version": "3.11.7"
  }
 },
 "nbformat": 4,
 "nbformat_minor": 5
}
