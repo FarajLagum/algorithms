{
 "cells": [
  {
   "cell_type": "markdown",
   "id": "46b97edc",
   "metadata": {},
   "source": [
    "The time complexity of the spiralOrder function is O(mn), where m and n are the dimensions of the input matrix. This is because the function iterates over each element in the matrix exactly once. The space complexity of the function is O(1), as it only uses a constant amount of extra space to store the boundaries of the matrix."
   ]
  },
  {
   "cell_type": "code",
   "execution_count": 44,
   "metadata": {},
   "outputs": [
    {
     "name": "stdout",
     "output_type": "stream",
     "text": [
      "1 2 3 4 8 12 16 15 14 13 9 5 6 7 11 10 \n"
     ]
    }
   ],
   "source": [
    "def spiralOrder(matrix):\n",
    "    \"\"\"\n",
    "    :type matrix: List[List[int]]\n",
    "    :rtype: List[int]\n",
    "    \"\"\"\n",
    "    if not matrix:\n",
    "        return []\n",
    "    m, n = len(matrix), len(matrix[0])\n",
    "    res = []\n",
    "    left, right, top, bottom = 0, n - 1, 0, m - 1\n",
    "    while left <= right and top <= bottom:\n",
    "        for j in range(left, right + 1):\n",
    "            res.append(matrix[top][j])\n",
    "        for i in range(top + 1, bottom + 1):\n",
    "            res.append(matrix[i][right])\n",
    "        if left < right and top < bottom:\n",
    "            for j in range(right - 1, left - 1, -1):\n",
    "                res.append(matrix[bottom][j])\n",
    "            for i in range(bottom - 1, top, -1):\n",
    "                res.append(matrix[i][left])\n",
    "        left, right, top, bottom = left + 1, right - 1, top + 1, bottom - 1\n",
    "    return res\n",
    "\n",
    "# Driver code\n",
    "if __name__ == \"__main__\":\n",
    "    a = [[1, 2, 3, 4],\n",
    "         [5, 6, 7, 8],\n",
    "         [9, 10, 11, 12],\n",
    "         [13, 14, 15, 16]]\n",
    " \n",
    "    # Function call\n",
    "    for x in spiralOrder(a):\n",
    "        print(x, end=\" \")\n",
    "    print()"
   ]
  },
  {
   "cell_type": "markdown",
   "id": "0f705a9c",
   "metadata": {},
   "source": [
    "# Neet"
   ]
  },
  {
   "cell_type": "code",
   "execution_count": 52,
   "id": "5bcd11d9",
   "metadata": {},
   "outputs": [
    {
     "name": "stdout",
     "output_type": "stream",
     "text": [
      "1 2 3 4 5 6 7 8 9 10 11 12 13 14 15 16 17 18 19 20 21 22 23 24 25 \n"
     ]
    }
   ],
   "source": [
    "def spiralOrder(matrix):\n",
    "    if not matrix:\n",
    "        return []\n",
    "    \n",
    "    m, n = len(matrix), len(matrix[0])\n",
    "    res = []\n",
    "    left, right, top, bottom = 0, n - 1, 0, m - 1\n",
    "    while left <= right and top <= bottom:\n",
    "        for j in range(left, right + 1):\n",
    "            res.append(matrix[top][j])\n",
    "\n",
    "        for i in range(top + 1, bottom + 1):\n",
    "            res.append(matrix[i][right])\n",
    "\n",
    "        if left < right and top < bottom:\n",
    "            for j in reversed(range(left, right)):\n",
    "                #print(j, end= \" \")\n",
    "                res.append(matrix[bottom][j])\n",
    "\n",
    "            for i in reversed(range(top+1, bottom)):\n",
    "                res.append(matrix[i][left])\n",
    "\n",
    "        left, right, top, bottom = left + 1, right - 1, top + 1, bottom - 1\n",
    "    return res\n",
    "\n",
    "# Driver code\n",
    "if __name__ == \"__main__\":\n",
    "    a = [[1, 2, 3, 4],\n",
    "         [12, 13, 14, 5],\n",
    "         [11, 16, 15, 6],\n",
    "         [10, 9, 8, 7]]\n",
    "    \n",
    "    a = [[1, 2,  3,  4,  5],\n",
    "        [16, 17, 18, 19, 6],\n",
    "        [15, 24, 25, 20, 7],\n",
    "        [14, 23, 22, 21, 8],\n",
    "        [13, 12, 11, 10, 9]]\n",
    "    \n",
    "    # spiralOrder(a)\n",
    " \n",
    "    # Function call\n",
    "    for x in spiralOrder(a):\n",
    "        print(x, end=\" \")\n",
    "    print()"
   ]
  },
  {
   "cell_type": "code",
   "execution_count": 35,
   "id": "188579df",
   "metadata": {},
   "outputs": [
    {
     "name": "stdout",
     "output_type": "stream",
     "text": [
      "4\n",
      "3\n",
      "2\n"
     ]
    }
   ],
   "source": [
    "for i in reversed(range(2, 5)):\n",
    "    print(i)"
   ]
  },
  {
   "cell_type": "markdown",
   "id": "a52cdb7e",
   "metadata": {},
   "source": [
    "While this approach is conceptually simple, it can be more complex to implement than the previous solution. The time complexity of this approach is also O(mn), where m and n are the dimensions of the input matrix, since we visit each node exactly once. The space complexity of this approach is O(mn), since we need to store the visited nodes and the stack of nodes to be visited."
   ]
  },
  {
   "cell_type": "code",
   "execution_count": 2,
   "id": "0b6d4109",
   "metadata": {},
   "outputs": [
    {
     "name": "stdout",
     "output_type": "stream",
     "text": [
      "1 5 9 13 14 10 6 2 3 7 11 15 16 12 8 4 \n"
     ]
    }
   ],
   "source": [
    "def spiralOrder(matrix):\n",
    "    \"\"\"\n",
    "    :type matrix: List[List[int]]\n",
    "    :rtype: List[int]\n",
    "    \"\"\"\n",
    "    if not matrix:\n",
    "        return []\n",
    "    m, n = len(matrix), len(matrix[0])\n",
    "    res = []\n",
    "    visited = set()\n",
    "    stack = [(0, 0)]\n",
    "    while stack:\n",
    "        i, j = stack.pop()\n",
    "        if (i, j) in visited:\n",
    "            continue\n",
    "        visited.add((i, j))\n",
    "        res.append(matrix[i][j])\n",
    "        if j + 1 < n and (i, j + 1) not in visited:\n",
    "            stack.append((i, j + 1))\n",
    "        if i + 1 < m and (i + 1, j) not in visited:\n",
    "            stack.append((i + 1, j))\n",
    "        if j - 1 >= 0 and (i, j - 1) not in visited:\n",
    "            stack.append((i, j - 1))\n",
    "        if i - 1 >= 0 and (i - 1, j) not in visited:\n",
    "            stack.append((i - 1, j))\n",
    "    return res\n",
    "# Driver code\n",
    "if __name__ == \"__main__\":\n",
    "    a = [[1, 2, 3, 4],\n",
    "         [5, 6, 7, 8],\n",
    "         [9, 10, 11, 12],\n",
    "         [13, 14, 15, 16]]\n",
    " \n",
    "    # Function call\n",
    "    for x in spiralOrder(a):\n",
    "        print(x, end=\" \")\n",
    "    print()"
   ]
  },
  {
   "cell_type": "markdown",
   "id": "594d94a6",
   "metadata": {},
   "source": [
    "\n",
    "n   steps R\n",
    "\n",
    "n-1 steps D\n",
    "\n",
    "n-1 steps L\n",
    "\n",
    "n-2 steps U\n",
    "\n",
    "n-2 steps R\n",
    "\n",
    "n-3 steps D\n",
    "\n",
    "n-3 steps L\n",
    "\n",
    "n-4 steps U\n",
    "\n",
    "n-4 steps D\n",
    "\n"
   ]
  }
 ],
 "metadata": {
  "kernelspec": {
   "display_name": "Python 3 (ipykernel)",
   "language": "python",
   "name": "python3"
  },
  "language_info": {
   "codemirror_mode": {
    "name": "ipython",
    "version": 3
   },
   "file_extension": ".py",
   "mimetype": "text/x-python",
   "name": "python",
   "nbconvert_exporter": "python",
   "pygments_lexer": "ipython3",
   "version": "3.11.7"
  }
 },
 "nbformat": 4,
 "nbformat_minor": 5
}
